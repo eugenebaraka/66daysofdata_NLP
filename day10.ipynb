{
  "nbformat": 4,
  "nbformat_minor": 0,
  "metadata": {
    "colab": {
      "name": "day10.ipynb",
      "provenance": [],
      "authorship_tag": "ABX9TyOTAcIgzu+N3MQyw6SlP3+Q",
      "include_colab_link": true
    },
    "kernelspec": {
      "name": "python3",
      "display_name": "Python 3"
    },
    "language_info": {
      "name": "python"
    }
  },
  "cells": [
    {
      "cell_type": "markdown",
      "metadata": {
        "id": "view-in-github",
        "colab_type": "text"
      },
      "source": [
        "<a href=\"https://colab.research.google.com/github/eugenebaraka/66daysofdata_NLP/blob/main/day10.ipynb\" target=\"_parent\"><img src=\"https://colab.research.google.com/assets/colab-badge.svg\" alt=\"Open In Colab\"/></a>"
      ]
    },
    {
      "cell_type": "code",
      "execution_count": null,
      "metadata": {
        "id": "hjorASUV164p"
      },
      "outputs": [],
      "source": [
        ""
      ]
    },
    {
      "cell_type": "code",
      "source": [
        "pos = {}\n",
        "pos['colorless'] = 'ADJ'\n",
        "pos['ideas'] = 'N'\n",
        "pos['sleep'] = 'V'\n",
        "pos['furiously'] = 'ADV'\n",
        "\n",
        "for key, val in pos.items():\n",
        "  print(f\"{key}:{val}\")"
      ],
      "metadata": {
        "colab": {
          "base_uri": "https://localhost:8080/"
        },
        "id": "ImBtoWiW3R9e",
        "outputId": "931ee62f-d52e-4a99-935a-2463a9e374ba"
      },
      "execution_count": 6,
      "outputs": [
        {
          "output_type": "stream",
          "name": "stdout",
          "text": [
            "colorless:ADJ\n",
            "ideas:N\n",
            "sleep:V\n",
            "furiously:ADV\n"
          ]
        }
      ]
    },
    {
      "cell_type": "code",
      "source": [
        "from collections import defaultdict\n",
        "frequency = defaultdict(int)\n",
        "# frequency['colorless'] = 4\n",
        "# frequency['ideas']\n",
        "frequency"
      ],
      "metadata": {
        "colab": {
          "base_uri": "https://localhost:8080/"
        },
        "id": "ge3U9DCT5dAb",
        "outputId": "21e9212d-779d-4420-a05a-145e223e3e3b"
      },
      "execution_count": 8,
      "outputs": [
        {
          "output_type": "execute_result",
          "data": {
            "text/plain": [
              "defaultdict(int, {})"
            ]
          },
          "metadata": {},
          "execution_count": 8
        }
      ]
    },
    {
      "cell_type": "code",
      "source": [
        "pos.update({'cats': 'N', 'scratch': 'V', 'peacefully': 'ADV', 'old': 'ADJ'})\n",
        "pos2 = defaultdict(list)\n",
        "for key, value in pos.items():\n",
        "  pos2[value].append(key)\n",
        "# pos2 = [(key, ) for (key, value) in pos.items()]\n",
        "pos2['ADV']"
      ],
      "metadata": {
        "colab": {
          "base_uri": "https://localhost:8080/"
        },
        "id": "iUSBo6zq6QRZ",
        "outputId": "f4186a2c-9f54-498e-f7cd-3fbbfcffc7f3"
      },
      "execution_count": 15,
      "outputs": [
        {
          "output_type": "execute_result",
          "data": {
            "text/plain": [
              "['furiously', 'peacefully']"
            ]
          },
          "metadata": {},
          "execution_count": 15
        }
      ]
    },
    {
      "cell_type": "markdown",
      "source": [
        "## N-Gram Tagging"
      ],
      "metadata": {
        "id": "qLYH20R89llS"
      }
    },
    {
      "cell_type": "code",
      "source": [
        ""
      ],
      "metadata": {
        "id": "3ah0QdBN7ket"
      },
      "execution_count": null,
      "outputs": []
    }
  ]
}