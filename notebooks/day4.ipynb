{
 "cells": [
  {
   "cell_type": "markdown",
   "metadata": {},
   "source": [
    "## Chapter 3. Processing Raw Text"
   ]
  },
  {
   "cell_type": "code",
   "execution_count": 10,
   "metadata": {},
   "outputs": [
    {
     "name": "stdout",
     "output_type": "stream",
     "text": [
      "Requirement already satisfied: feedparser in c:\\programdata\\anaconda3\\lib\\site-packages (6.0.10)Note: you may need to restart the kernel to use updated packages.\n",
      "Requirement already satisfied: sgmllib3k in c:\\programdata\\anaconda3\\lib\\site-packages (from feedparser) (1.0.0)\n",
      "\n"
     ]
    }
   ],
   "source": [
    "%pip install feedparser"
   ]
  },
  {
   "cell_type": "code",
   "execution_count": 11,
   "metadata": {},
   "outputs": [],
   "source": [
    "#required libraries\n",
    "import nltk, re, pprint\n",
    "from nltk import word_tokenize #a word tokenizer\n",
    "from urllib import request #read in file from url\n",
    "from bs4 import BeautifulSoup #removing html from text\n",
    "import feedparser #access content of a blog"
   ]
  },
  {
   "cell_type": "code",
   "execution_count": 12,
   "metadata": {},
   "outputs": [
    {
     "data": {
      "text/plain": [
       "1176812"
      ]
     },
     "execution_count": 12,
     "metadata": {},
     "output_type": "execute_result"
    }
   ],
   "source": [
    "# Access \"crime punishment\" text from Project Gutenberg\n",
    "url = \"http://www.gutenberg.org/files/2554/2554-0.txt\"\n",
    "response = request.urlopen(url)\n",
    "raw_text = response.read().decode('utf8')\n",
    "len(raw_text) #our text has 1,176,812 characters"
   ]
  },
  {
   "cell_type": "markdown",
   "metadata": {},
   "source": [
    "*Tokenization* is the process of splitting a string of text into a list of words and throwing away some characters such as punctuations. "
   ]
  },
  {
   "cell_type": "code",
   "execution_count": 13,
   "metadata": {},
   "outputs": [
    {
     "name": "stdout",
     "output_type": "stream",
     "text": [
      "the raw text: <class 'str'>\n",
      "after tokenizing the raw text: <class 'list'>\n",
      "1176812\n"
     ]
    }
   ],
   "source": [
    "# Tokenizing our text\n",
    "tokens = word_tokenize(raw_text)\n",
    "print(\"the raw text:\", type(raw_text))\n",
    "print(\"after tokenizing the raw text:\", type(tokens))\n",
    "print(len(raw_text))"
   ]
  },
  {
   "cell_type": "code",
   "execution_count": 14,
   "metadata": {},
   "outputs": [
    {
     "data": {
      "text/plain": [
       "['\\ufeffThe', 'Project', 'Gutenberg', 'eBook', 'of']"
      ]
     },
     "execution_count": 14,
     "metadata": {},
     "output_type": "execute_result"
    }
   ],
   "source": [
    "tokens[:5]"
   ]
  },
  {
   "cell_type": "code",
   "execution_count": 15,
   "metadata": {},
   "outputs": [
    {
     "name": "stdout",
     "output_type": "stream",
     "text": [
      "Katerina Ivanovna; Pyotr Petrovitch; Pulcheria Alexandrovna; Avdotya\n",
      "Romanovna; Rodion Romanovitch; Marfa Petrovna; Sofya Semyonovna; old\n",
      "woman; Project Gutenberg-tm; Porfiry Petrovitch; Amalia Ivanovna;\n",
      "great deal; young man; Nikodim Fomitch; Project Gutenberg; Ilya\n",
      "Petrovitch; Andrey Semyonovitch; Hay Market; Dmitri Prokofitch; Good\n",
      "heavens\n"
     ]
    }
   ],
   "source": [
    "text = nltk.Text(tokens)\n",
    "text.collocations() #pairs that usually occur together in the text\n"
   ]
  },
  {
   "cell_type": "markdown",
   "metadata": {},
   "source": [
    "### Dealing with HTML"
   ]
  },
  {
   "cell_type": "code",
   "execution_count": 16,
   "metadata": {},
   "outputs": [
    {
     "data": {
      "text/plain": [
       "'<!doctype html public \"-//W3C//DTD HTML 4.0 Transitional//EN'"
      ]
     },
     "execution_count": 16,
     "metadata": {},
     "output_type": "execute_result"
    }
   ],
   "source": [
    "url = \"http://news.bbc.co.uk/2/hi/health/2284783.stm\"\n",
    "html = request.urlopen(url).read().decode(\"utf8\")\n",
    "html[:60]\n"
   ]
  },
  {
   "cell_type": "code",
   "execution_count": 17,
   "metadata": {},
   "outputs": [
    {
     "name": "stdout",
     "output_type": "stream",
     "text": [
      "Displaying 5 of 5 matches:\n",
      "hey say too few people now carry the gene for blondes to last beyond the next \n",
      "blonde hair is caused by a recessive gene . In order for a child to have blond\n",
      " have blonde hair , it must have the gene on both sides of the family in the g\n",
      "ere is a disadvantage of having that gene or by chance . They do n't disappear\n",
      "des would disappear is if having the gene was a disadvantage and I do not thin\n"
     ]
    }
   ],
   "source": [
    "raw = BeautifulSoup(html, 'html.parser').get_text()\n",
    "token = word_tokenize(raw)\n",
    "token = token[110:390]\n",
    "text = nltk.Text(token)\n",
    "text.concordance('gene') #searchin word 'gene' and surrounding context"
   ]
  },
  {
   "cell_type": "markdown",
   "metadata": {},
   "source": [
    "### Processing RSS Feeds"
   ]
  },
  {
   "cell_type": "code",
   "execution_count": 56,
   "metadata": {},
   "outputs": [
    {
     "name": "stdout",
     "output_type": "stream",
     "text": [
      "BLOG TITLE: Eugene Baraka\n",
      "NUMBER OF POSTS: 3 posts\n",
      "LATEST POST'S TITLE: Understanding Population Variance and Sample Variance Formulas\n",
      "BEFORE TOKENIZATION: Understanding Population Variance and Sample Varia\n",
      "AFTER TOKENIZATION: ['Understanding', 'Population', 'Variance', 'and', 'Sample', 'Variance', 'Formulas', 'In', 'my', 'data', 'science', 'learning', 'journey', ',', 'I']\n"
     ]
    }
   ],
   "source": [
    "#importing libraries\n",
    "from bs4 import BeautifulSoup\n",
    "import feedparser\n",
    "\n",
    "#read in blog feed\n",
    "all_feed = feedparser.parse(\"https://eugenebaraka.github.io/feed.xml\")\n",
    "print(\"BLOG TITLE:\", all_feed['feed']['title']) #blog title\n",
    "print(\"NUMBER OF POSTS:\", len(all_feed.entries), \"posts\") #number of posts so far\n",
    "\n",
    "latest_post = all_feed.entries[:-1][0] #the latest post\n",
    "print(\"LATEST POST'S TITLE:\", latest_post.title) #title of my latest blog post\n",
    "\n",
    "# get the post content, parse and tokenize it\n",
    "post_content = latest_post.content[0].value \n",
    "raw_text = BeautifulSoup(post_content, \"html.parser\").get_text()\n",
    "tokenized_text = word_tokenize(raw_text)\n",
    "\n",
    "print(\"BEFORE TOKENIZATION:\", raw_text[:50])\n",
    "print(\"AFTER TOKENIZATION:\", tokenized_text[:15])"
   ]
  },
  {
   "cell_type": "code",
   "execution_count": null,
   "metadata": {},
   "outputs": [],
   "source": []
  },
  {
   "cell_type": "code",
   "execution_count": 44,
   "metadata": {},
   "outputs": [
    {
     "data": {
      "text/plain": [
       "{'title': 'Understanding Population Variance and Sample Variance Formulas',\n",
       " 'title_detail': {'type': 'text/html',\n",
       "  'language': None,\n",
       "  'base': 'https://eugenebaraka.github.io/feed.xml',\n",
       "  'value': 'Understanding Population Variance and Sample Variance Formulas'},\n",
       " 'links': [{'href': 'https://eugenebaraka.github.io/blog/2022/07/03/variance-explained/',\n",
       "   'rel': 'alternate',\n",
       "   'type': 'text/html',\n",
       "   'title': 'Understanding Population Variance and Sample Variance Formulas'}],\n",
       " 'link': 'https://eugenebaraka.github.io/blog/2022/07/03/variance-explained/',\n",
       " 'published': '2022-07-03T00:00:00+00:00',\n",
       " 'published_parsed': time.struct_time(tm_year=2022, tm_mon=7, tm_mday=3, tm_hour=0, tm_min=0, tm_sec=0, tm_wday=6, tm_yday=184, tm_isdst=0),\n",
       " 'updated': '2022-07-03T00:00:00+00:00',\n",
       " 'updated_parsed': time.struct_time(tm_year=2022, tm_mon=7, tm_mday=3, tm_hour=0, tm_min=0, tm_sec=0, tm_wday=6, tm_yday=184, tm_isdst=0),\n",
       " 'id': 'https://eugenebaraka.github.io/blog/2022/07/03/variance-explained',\n",
       " 'guidislink': False,\n",
       " 'content': [{'type': 'text/html',\n",
       "   'language': None,\n",
       "   'base': 'https://eugenebaraka.github.io/blog/2022/07/03/variance-explained/',\n",
       "   'value': '<h1 id=\"understanding-population-variance-and-sample-variance-formulas\">Understanding Population Variance and Sample Variance Formulas</h1>\\n\\n<p>In my data science learning journey, I set a goal to really understand the fundamental topics before moving on to advanced ones. Instead of striving to learn as many things as I can, I slow down and really understand how things work under the hood. This is because I believe that “you can’t fix what you don’t understand” and understanding is totally different from knowing. This weekend, I revisited my statistics basics and thought of writing about an easy way to understand variance.</p>\\n\\n<p>In this article, I will discuss:</p>\\n<ul>\\n  <li><a href=\"https://eugenebaraka.github.io/blog/2022/07/03/variance-explained/#title1\">How to make sense of variance by using visuals</a></li>\\n  <li><a href=\"https://eugenebaraka.github.io/blog/2022/07/03/variance-explained/#title2\">Why variance calculation uses squares</a></li>\\n  <li><a href=\"https://eugenebaraka.github.io/blog/2022/07/03/variance-explained/#title3\">Why population variance and sample variance have different denominators</a></li>\\n  <li><a href=\"https://eugenebaraka.github.io/blog/2022/07/03/variance-explained/#title4\">Writing a variance function from scratch</a></li>\\n</ul>\\n\\n<p>First, let do a little refresher on what variance is:</p>\\n\\n<p>Variance is a statistical measure that explains how far away data points are from the mean, and hence from each other.</p>\\n<ul>\\n  <li>A variance of zero means all data is similar (we have only one data point)</li>\\n  <li>The higher the variance, the more disperse our data is (the data points are far away from the mean and from each other)</li>\\n  <li>The lower the variance, the less disperse the data is (data points close to the mean and to each other)</li>\\n  <li>Variance cannot be negative!</li>\\n</ul>\\n\\n<h2 id=\"how-to-make-sense-of-variance-by-using-visuals-\">How to make sense of variance by using visuals <a name=\"title1\"></a></h2>\\n\\n<p>The variance is calculated as</p>\\n\\n<p><img alt=\"variance\" src=\"https://eugenebaraka.github.io/assets/posts/variance_explained/var.png\" /></p>\\n\\n<p>Where,</p>\\n<ul>\\n  <li>x_i is the ith value in the data set;</li>\\n  <li>µ is the population mean;</li>\\n  <li>N is the number of values.</li>\\n</ul>\\n\\n<p>Let’s use python’s scikit-learn built-in dataset, the Iris dataset, to break down this formula. Please find the full notebook on my <a href=\"https://github.com/eugenebaraka/deep-stats/blob/main/variance.ipynb\">github</a></p>\\n\\n<p>We will import all necessary libraries first:</p>\\n\\n<p><img alt=\"libraries\" src=\"https://eugenebaraka.github.io/assets/posts/variance_explained/libraries.png\" /></p>\\n\\n<p>Loading and visualizing the first 7 rows of the data</p>\\n\\n<p><img alt=\"first 7 rows\" src=\"https://eugenebaraka.github.io/assets/posts/variance_explained/head.png\" /></p>\\n\\n<p>For simplicity we will exclusively use the first column of the data, but the process is the same! By visualizing the distribution of sepal length, we see that is pretty much normally distributed with a mean of around 5.8 cm.</p>\\n\\n<p><img alt=\"Distribution of sepal length\" src=\"https://eugenebaraka.github.io/assets/posts/variance_explained/output.png\" /></p>\\n\\n<p>The first step to calculate variance is finding the distance between each data point and the mean. Consider a flower of a 3.8cm sepal length. This data point is two centimetres away from the mean (5.8 cm). If we square the difference, we get 4, which is the area of the square of sides of 2.</p>\\n\\n<p><img alt=\"Square of the distance\" src=\"https://eugenebaraka.github.io/assets/posts/variance_explained/diff_square.png\" /></p>\\n\\n<p>We do the same for every other data point in our dataset to form different squares. The variance is the mean of the area of those squares together. The figure below shows the distribution of the squared differences along with the distribution of sepal lengths. Note that I immediately calculated and plotted the mean of the squared differences, which is the <strong>Variance</strong>.</p>\\n\\n<p><img alt=\"image\" src=\"https://eugenebaraka.github.io/assets/posts/variance_explained/squared_diff.png\" /></p>\\n\\n<p>In this case, the variance is close to 0.7, which is the same as the one calculated using numpy.</p>\\n\\n<p><img alt=\"variance\" src=\"https://eugenebaraka.github.io/assets/posts/variance_explained/variance.png\" /></p>\\n\\n<h2 id=\"why-variance-calculation-uses-squares-\">Why variance calculation uses squares <a name=\"title2\"></a></h2>\\n\\n<p>Why do we square the difference and not take absolute values? This, alone, can be a post in itself explaining advantages and disadvantages of squaring the differences. However, in short, squaring the differences in the variance serves two main purposes:</p>\\n\\n<ul>\\n  <li>It penalizes the outliers (larger dispersions from the mean) more than the data points closer to the mean, and</li>\\n  <li>It ensures were are not summing negative values — this prevents the distances above the mean from cancelling out with those below, which would result in a variance of zero</li>\\n</ul>\\n\\n<p>If you want to read more about this, please refer to this <a href=\"https://stats.stackexchange.com/questions/118/why-square-the-difference-instead-of-taking-the-absolute-value-in-standard-devia\">StackExchange post</a>!</p>\\n\\n<h2 id=\"why-population-variance-and-sample-variance-have-different-denominators-\">Why population variance and sample variance have different denominators <a name=\"title3\"></a></h2>\\n\\n<p>The variance we calculated above is referred to population variance. However, in practice, we rarely use population variance since we are working with samples taken from the study population. When dealing with a sample, we calculate sample variance instead.</p>\\n\\n<p>Our goal is for the variation in our sample (sample variance) to estimate the variation in the population as accurately as possible. Since the population mean is unknown, we estimate it using the sample mean. In this process we are already introducing bias in our variance, so we need to correct for that bias by multiplying the population variance with n/(n-1), where n is the number of observations. This bias correction is known as <a href=\"https://en.wikipedia.org/wiki/Bessel%27s_correction\">Bessel’s correction</a>. If we didn’t correct for this bias, the variance obtained would be a biased estimator of the population variance</p>\\n\\n<p>After correcting for the bias, the formula becomes:</p>\\n\\n<p><img alt=\"sample variance\" src=\"https://eugenebaraka.github.io/assets/posts/variance_explained/sample_var.png\" /></p>\\n\\n<p>where, \\nx_i is the ith value in the data set;\\nx̄ is the sample mean;\\nn is the number of observations;</p>\\n\\n<p>Note that the formula is the almost the same as that of population variance except that we take n minus one degree of freedom as the denominator for the sample variance.</p>\\n\\n<p>Now to the best part….Let’s write our own variance function from scatch <a name=\"title4\"></a>:</p>\\n\\n<p><img alt=\"variance function\" src=\"https://eugenebaraka.github.io/assets/posts/variance_explained/var_fun.png\" /></p>\\n\\n<p>Testing it out…</p>\\n\\n<p><img alt=\"test function\" src=\"https://eugenebaraka.github.io/assets/posts/variance_explained/test_fun.png\" /></p>\\n\\n<p>There you have it!! Now we know what variance is, why we square deviations from the mean, and the difference between population and sample variance. Above all, if we wanted, we wouldn’t have to rely on numpy’s variance function to calculate our own variance. Isn’t that amazing? I think it is!!!</p>\\n\\n<p>À bientôt!!</p>'}],\n",
       " 'summary': 'Why do we square the deviations from the mean in the variance formula? What is the difference between population and sample variance? Read on to easily make sense of this important statistical measure!',\n",
       " 'authors': [{'name': 'EUGENE BARAKA'}],\n",
       " 'author_detail': {'name': 'EUGENE BARAKA'},\n",
       " 'author': 'EUGENE BARAKA',\n",
       " 'tags': [{'term': 'blog', 'scheme': None, 'label': None},\n",
       "  {'term': 'variance', 'scheme': None, 'label': None},\n",
       "  {'term': 'statistics', 'scheme': None, 'label': None},\n",
       "  {'term': 'population', 'scheme': None, 'label': None},\n",
       "  {'term': 'sample', 'scheme': None, 'label': None}],\n",
       " 'summary_detail': {'type': 'text/html',\n",
       "  'language': None,\n",
       "  'base': 'https://eugenebaraka.github.io/feed.xml',\n",
       "  'value': 'Why do we square the deviations from the mean in the variance formula? What is the difference between population and sample variance? Read on to easily make sense of this important statistical measure!'}}"
      ]
     },
     "execution_count": 44,
     "metadata": {},
     "output_type": "execute_result"
    }
   ],
   "source": [
    "llog = feedparser.parse(\"http://languagelog.ldc.upenn.edu/nll/?feed=atom\")\n",
    "latest_post"
   ]
  },
  {
   "cell_type": "code",
   "execution_count": 8,
   "metadata": {},
   "outputs": [
    {
     "data": {
      "text/plain": [
       "['input1', 'output1', 'input2']"
      ]
     },
     "execution_count": 8,
     "metadata": {},
     "output_type": "execute_result"
    }
   ],
   "source": [
    "wordlist = ['input1', 'output1', 'input2', 'output']\n",
    "[w for w in wordlist if re.search(\".*[0-9]+$\", w)] #all strings ending with number\n"
   ]
  },
  {
   "cell_type": "code",
   "execution_count": null,
   "metadata": {},
   "outputs": [],
   "source": []
  }
 ],
 "metadata": {
  "kernelspec": {
   "display_name": "Python 3.8.5 ('base')",
   "language": "python",
   "name": "python3"
  },
  "language_info": {
   "codemirror_mode": {
    "name": "ipython",
    "version": 3
   },
   "file_extension": ".py",
   "mimetype": "text/x-python",
   "name": "python",
   "nbconvert_exporter": "python",
   "pygments_lexer": "ipython3",
   "version": "3.8.5"
  },
  "orig_nbformat": 4,
  "vscode": {
   "interpreter": {
    "hash": "ad2bdc8ecc057115af97d19610ffacc2b4e99fae6737bb82f5d7fb13d2f2c186"
   }
  }
 },
 "nbformat": 4,
 "nbformat_minor": 2
}
