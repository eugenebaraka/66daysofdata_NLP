{
 "cells": [
  {
   "cell_type": "markdown",
   "metadata": {},
   "source": [
    "## Choosing the right features\n",
    "\n",
    "Overfitting: the case where the built algorithm relies on the idiosyncrasies of the training data that do not generalize well to new data. \n",
    "\n",
    "To avoid overfitting: use error analysis, which refines the created feature set by: \n",
    "- Selecting development set: divide this set into training and dev-test sets\n",
    "\n",
    "Training set is used to train the model while the dev test is used to perform error analysis. The test set is the used in the final evaluation of our model \n"
   ]
  },
  {
   "cell_type": "code",
   "execution_count": 71,
   "metadata": {},
   "outputs": [],
   "source": [
    "#importing libraries\n",
    "import nltk\n",
    "from nltk.corpus import movie_reviews, names, brown\n",
    "from string import ascii_lowercase\n",
    "import random"
   ]
  },
  {
   "cell_type": "code",
   "execution_count": 21,
   "metadata": {},
   "outputs": [],
   "source": [
    "labeled_names = ([(name, 'male') for name in names.words('male.txt')] + \n",
    "[(name, 'female') for name in names.words('female.txt')])\n",
    "\n",
    "random.shuffle(labeled_names)"
   ]
  },
  {
   "cell_type": "code",
   "execution_count": 23,
   "metadata": {},
   "outputs": [],
   "source": [
    "def gender_features(name):\n",
    "    features = {}\n",
    "    features[\"first_letter\"] = name[0].lower()\n",
    "    features[\"last_letter\"] = name[-1].lower()\n",
    "    for letter in ascii_lowercase:\n",
    "        features[f\"count({letter})\"] = name.lower().count(letter)\n",
    "        features[f\"has({letter})\"] = letter in name.lower()\n",
    "    return features"
   ]
  },
  {
   "cell_type": "code",
   "execution_count": 24,
   "metadata": {},
   "outputs": [
    {
     "name": "stdout",
     "output_type": "stream",
     "text": [
      "{'first_letter': 'e', 'last_letter': 'e', 'count(a)': 0, 'has(a)': False, 'count(b)': 0, 'has(b)': False, 'count(c)': 0, 'has(c)': False, 'count(d)': 0, 'has(d)': False, 'count(e)': 3, 'has(e)': True, 'count(f)': 0, 'has(f)': False, 'count(g)': 1, 'has(g)': True, 'count(h)': 0, 'has(h)': False, 'count(i)': 0, 'has(i)': False, 'count(j)': 0, 'has(j)': False, 'count(k)': 0, 'has(k)': False, 'count(l)': 0, 'has(l)': False, 'count(m)': 0, 'has(m)': False, 'count(n)': 1, 'has(n)': True, 'count(o)': 0, 'has(o)': False, 'count(p)': 0, 'has(p)': False, 'count(q)': 0, 'has(q)': False, 'count(r)': 0, 'has(r)': False, 'count(s)': 0, 'has(s)': False, 'count(t)': 0, 'has(t)': False, 'count(u)': 1, 'has(u)': True, 'count(v)': 0, 'has(v)': False, 'count(w)': 0, 'has(w)': False, 'count(x)': 0, 'has(x)': False, 'count(y)': 0, 'has(y)': False, 'count(z)': 0, 'has(z)': False}\n"
     ]
    }
   ],
   "source": [
    "print(gender_features(\"Eugene\"))"
   ]
  },
  {
   "cell_type": "code",
   "execution_count": 25,
   "metadata": {},
   "outputs": [
    {
     "name": "stdout",
     "output_type": "stream",
     "text": [
      "0.746\n"
     ]
    }
   ],
   "source": [
    "\n",
    "feature_sets = [(gender_features(n), gender) for (n, gender) in labeled_names]\n",
    "train_set , test_set = feature_sets[500:], feature_sets[:500]\n",
    "classifier = nltk.NaiveBayesClassifier.train(train_set)\n",
    "print(nltk.classify.accuracy(classifier, test_set))\n"
   ]
  },
  {
   "cell_type": "code",
   "execution_count": 29,
   "metadata": {},
   "outputs": [
    {
     "name": "stdout",
     "output_type": "stream",
     "text": [
      "0.77\n"
     ]
    }
   ],
   "source": [
    "# Let's improve the accuracy by creating the development test set\n",
    "train_names = labeled_names[1500:]\n",
    "devtest_names = labeled_names[500:1500]\n",
    "test_names = labeled_names[:500]\n",
    "\n",
    "train_set = [(gender_features(n), gender) for (n, gender) in train_names]\n",
    "devtest_set = [(gender_features(n), gender) for (n, gender) in devtest_names]\n",
    "test_set = [(gender_features(n), gender) for (n, gender) in test_names]\n",
    "\n",
    "classifier = nltk.NaiveBayesClassifier.train(train_set)\n",
    "print(nltk.classify.accuracy(classifier, devtest_set))"
   ]
  },
  {
   "cell_type": "code",
   "execution_count": 31,
   "metadata": {},
   "outputs": [],
   "source": [
    "# let's use the dev test set to generate a list of\n",
    "# errors the classifier makes when predicting name genders\n",
    "\n",
    "errors = []\n",
    "for (name, tag) in devtest_names:\n",
    "    guess = classifier.classify(gender_features(name))\n",
    "    if guess != tag:\n",
    "        errors.append((tag, guess, name))"
   ]
  },
  {
   "cell_type": "code",
   "execution_count": 37,
   "metadata": {},
   "outputs": [
    {
     "name": "stdout",
     "output_type": "stream",
     "text": [
      "correct = female, guess = male, name = Ambur\n",
      "correct = female, guess = male, name = Aphrodite\n",
      "correct = female, guess = male, name = Ardys\n",
      "correct = female, guess = male, name = Berget\n",
      "correct = female, guess = male, name = Betsey\n",
      "correct = female, guess = male, name = Betty\n",
      "correct = female, guess = male, name = Bridget\n",
      "correct = female, guess = male, name = Brunhilde\n",
      "correct = female, guess = male, name = Cam\n",
      "correct = female, guess = male, name = Chad\n",
      "correct = female, guess = male, name = Christel\n",
      "correct = female, guess = male, name = Chrystal\n",
      "correct = female, guess = male, name = Corey\n",
      "correct = female, guess = male, name = Corliss\n",
      "correct = female, guess = male, name = Corny\n",
      "correct = female, guess = male, name = Demeter\n",
      "correct = female, guess = male, name = Devonne\n",
      "correct = female, guess = male, name = Doe\n",
      "correct = female, guess = male, name = Doreen\n",
      "correct = female, guess = male, name = Dotty\n",
      "correct = female, guess = male, name = Enid\n",
      "correct = female, guess = male, name = Ethelind\n",
      "correct = female, guess = male, name = Faith\n",
      "correct = female, guess = male, name = Faun\n",
      "correct = female, guess = male, name = Fern\n",
      "correct = female, guess = male, name = Flor\n",
      "correct = female, guess = male, name = Franky\n",
      "correct = female, guess = male, name = Gretal\n",
      "correct = female, guess = male, name = Gretchen\n",
      "correct = female, guess = male, name = Gus\n",
      "correct = female, guess = male, name = Gwendolin\n",
      "correct = female, guess = male, name = Gwendolyn\n",
      "correct = female, guess = male, name = Gwenny\n",
      "correct = female, guess = male, name = Gwyn\n",
      "correct = female, guess = male, name = Gwyneth\n",
      "correct = female, guess = male, name = Harmony\n",
      "correct = female, guess = male, name = Hildegaard\n",
      "correct = female, guess = male, name = Iris\n",
      "correct = female, guess = male, name = Jeniffer\n",
      "correct = female, guess = male, name = Jess\n",
      "correct = female, guess = male, name = Jewell\n",
      "correct = female, guess = male, name = Jody\n",
      "correct = female, guess = male, name = Josey\n",
      "correct = female, guess = male, name = Josselyn\n",
      "correct = female, guess = male, name = Juliet\n",
      "correct = female, guess = male, name = Kass\n",
      "correct = female, guess = male, name = Kaster\n",
      "correct = female, guess = male, name = Kipp\n",
      "correct = female, guess = male, name = Koo\n",
      "correct = female, guess = male, name = Kris\n",
      "correct = female, guess = male, name = Kristin\n",
      "correct = female, guess = male, name = Lind\n",
      "correct = female, guess = male, name = Mag\n",
      "correct = female, guess = male, name = Margeaux\n",
      "correct = female, guess = male, name = Maryjo\n",
      "correct = female, guess = male, name = Maryrose\n",
      "correct = female, guess = male, name = Maud\n",
      "correct = female, guess = male, name = Meg\n",
      "correct = female, guess = male, name = Merry\n",
      "correct = female, guess = male, name = Miriam\n",
      "correct = female, guess = male, name = Pam\n",
      "correct = female, guess = male, name = Patsy\n",
      "correct = female, guess = male, name = Phyllys\n",
      "correct = female, guess = male, name = Pris\n",
      "correct = female, guess = male, name = Revkah\n",
      "correct = female, guess = male, name = Rhiamon\n",
      "correct = female, guess = male, name = Robby\n",
      "correct = female, guess = male, name = Robinet\n",
      "correct = female, guess = male, name = Robinett\n",
      "correct = female, guess = male, name = Rosamond\n",
      "correct = female, guess = male, name = Rosemonde\n",
      "correct = female, guess = male, name = Rubie\n",
      "correct = female, guess = male, name = Sam\n",
      "correct = female, guess = male, name = Shandy\n",
      "correct = female, guess = male, name = Shannon\n",
      "correct = female, guess = male, name = Sharon\n",
      "correct = female, guess = male, name = Sharyl\n",
      "correct = female, guess = male, name = Shawn\n",
      "correct = female, guess = male, name = Shelagh\n",
      "correct = female, guess = male, name = Shell\n",
      "correct = female, guess = male, name = Sheree\n",
      "correct = female, guess = male, name = Sheryl\n",
      "correct = female, guess = male, name = Shirl\n",
      "correct = female, guess = male, name = Stephie\n",
      "correct = female, guess = male, name = Stoddard\n",
      "correct = female, guess = male, name = Suki\n",
      "correct = female, guess = male, name = Sussi\n",
      "correct = female, guess = male, name = Suzan\n",
      "correct = female, guess = male, name = Tatum\n",
      "correct = female, guess = male, name = Tessy\n",
      "correct = female, guess = male, name = Tiff\n",
      "correct = female, guess = male, name = Timmy\n",
      "correct = female, guess = male, name = Torrie\n",
      "correct = female, guess = male, name = Trudy\n",
      "correct = female, guess = male, name = Venus\n",
      "correct = female, guess = male, name = Veronique\n",
      "correct = female, guess = male, name = Wallie\n",
      "correct = female, guess = male, name = Yehudit\n",
      "correct = male, guess = female, name = Aamir\n",
      "correct = male, guess = female, name = Abdel\n",
      "correct = male, guess = female, name = Abdullah\n",
      "correct = male, guess = female, name = Ajay\n",
      "correct = male, guess = female, name = Alden\n",
      "correct = male, guess = female, name = Anatoly\n",
      "correct = male, guess = female, name = Ansell\n",
      "correct = male, guess = female, name = Antoni\n",
      "correct = male, guess = female, name = Archy\n",
      "correct = male, guess = female, name = Arie\n",
      "correct = male, guess = female, name = Ariel\n",
      "correct = male, guess = female, name = Arne\n",
      "correct = male, guess = female, name = Arnie\n",
      "correct = male, guess = female, name = Ashish\n",
      "correct = male, guess = female, name = Augie\n",
      "correct = male, guess = female, name = Augustine\n",
      "correct = male, guess = female, name = Aylmer\n",
      "correct = male, guess = female, name = Barri\n",
      "correct = male, guess = female, name = Bartie\n",
      "correct = male, guess = female, name = Basil\n",
      "correct = male, guess = female, name = Beale\n",
      "correct = male, guess = female, name = Bernie\n",
      "correct = male, guess = female, name = Carleigh\n",
      "correct = male, guess = female, name = Case\n",
      "correct = male, guess = female, name = Chaddie\n",
      "correct = male, guess = female, name = Clare\n",
      "correct = male, guess = female, name = Clemente\n",
      "correct = male, guess = female, name = Clinten\n",
      "correct = male, guess = female, name = Conan\n",
      "correct = male, guess = female, name = Cy\n",
      "correct = male, guess = female, name = Cyrill\n",
      "correct = male, guess = female, name = Dane\n",
      "correct = male, guess = female, name = Donal\n",
      "correct = male, guess = female, name = Donnie\n",
      "correct = male, guess = female, name = Dwaine\n",
      "correct = male, guess = female, name = Earl\n",
      "correct = male, guess = female, name = Elden\n",
      "correct = male, guess = female, name = Elias\n",
      "correct = male, guess = female, name = Elisha\n",
      "correct = male, guess = female, name = Ellis\n",
      "correct = male, guess = female, name = Elmore\n",
      "correct = male, guess = female, name = Emmery\n",
      "correct = male, guess = female, name = Erich\n",
      "correct = male, guess = female, name = Evan\n",
      "correct = male, guess = female, name = Ezechiel\n",
      "correct = male, guess = female, name = Fairfax\n",
      "correct = male, guess = female, name = Felice\n",
      "correct = male, guess = female, name = Filipe\n",
      "correct = male, guess = female, name = Finley\n",
      "correct = male, guess = female, name = Finn\n",
      "correct = male, guess = female, name = Freddie\n",
      "correct = male, guess = female, name = Gail\n",
      "correct = male, guess = female, name = Gallagher\n",
      "correct = male, guess = female, name = Gamaliel\n",
      "correct = male, guess = female, name = Graehme\n",
      "correct = male, guess = female, name = Hale\n",
      "correct = male, guess = female, name = Harlin\n",
      "correct = male, guess = female, name = Harvie\n",
      "correct = male, guess = female, name = Henri\n",
      "correct = male, guess = female, name = Ignace\n",
      "correct = male, guess = female, name = Israel\n",
      "correct = male, guess = female, name = Izzy\n",
      "correct = male, guess = female, name = Jedediah\n",
      "correct = male, guess = female, name = Johnnie\n",
      "correct = male, guess = female, name = Jonathan\n",
      "correct = male, guess = female, name = Kalman\n",
      "correct = male, guess = female, name = Keil\n",
      "correct = male, guess = female, name = Kelly\n",
      "correct = male, guess = female, name = Kin\n",
      "correct = male, guess = female, name = Kingsly\n",
      "correct = male, guess = female, name = Klee\n",
      "correct = male, guess = female, name = Kyle\n",
      "correct = male, guess = female, name = Lamar\n",
      "correct = male, guess = female, name = Laurance\n",
      "correct = male, guess = female, name = Leigh\n",
      "correct = male, guess = female, name = Lemmie\n",
      "correct = male, guess = female, name = Leon\n",
      "correct = male, guess = female, name = Levy\n",
      "correct = male, guess = female, name = Lindsey\n",
      "correct = male, guess = female, name = Lucian\n",
      "correct = male, guess = female, name = Maddie\n",
      "correct = male, guess = female, name = Maddy\n",
      "correct = male, guess = female, name = Marshal\n",
      "correct = male, guess = female, name = Martainn\n",
      "correct = male, guess = female, name = Marty\n",
      "correct = male, guess = female, name = Mattie\n",
      "correct = male, guess = female, name = Maximilien\n",
      "correct = male, guess = female, name = Merril\n",
      "correct = male, guess = female, name = Micah\n",
      "correct = male, guess = female, name = Micheal\n",
      "correct = male, guess = female, name = Mitchel\n",
      "correct = male, guess = female, name = Nevile\n",
      "correct = male, guess = female, name = Niall\n",
      "correct = male, guess = female, name = Noel\n",
      "correct = male, guess = female, name = Ole\n",
      "correct = male, guess = female, name = Parsifal\n",
      "correct = male, guess = female, name = Pascal\n",
      "correct = male, guess = female, name = Phillipp\n",
      "correct = male, guess = female, name = Rafael\n",
      "correct = male, guess = female, name = Randi\n",
      "correct = male, guess = female, name = Ravil\n",
      "correct = male, guess = female, name = Reilly\n",
      "correct = male, guess = female, name = Roice\n",
      "correct = male, guess = female, name = Ronnie\n",
      "correct = male, guess = female, name = Salomone\n",
      "correct = male, guess = female, name = Salvatore\n",
      "correct = male, guess = female, name = Saundra\n",
      "correct = male, guess = female, name = Scarface\n",
      "correct = male, guess = female, name = Sebastien\n",
      "correct = male, guess = female, name = Shanan\n",
      "correct = male, guess = female, name = Shane\n",
      "correct = male, guess = female, name = Shea\n",
      "correct = male, guess = female, name = Si\n",
      "correct = male, guess = female, name = Sidney\n",
      "correct = male, guess = female, name = Simone\n",
      "correct = male, guess = female, name = Smitty\n",
      "correct = male, guess = female, name = Spense\n",
      "correct = male, guess = female, name = Stillman\n",
      "correct = male, guess = female, name = Stillmann\n",
      "correct = male, guess = female, name = Sullivan\n",
      "correct = male, guess = female, name = Sylvan\n",
      "correct = male, guess = female, name = Tally\n",
      "correct = male, guess = female, name = Teddie\n",
      "correct = male, guess = female, name = Tristan\n",
      "correct = male, guess = female, name = Val\n",
      "correct = male, guess = female, name = Van\n",
      "correct = male, guess = female, name = Vasily\n",
      "correct = male, guess = female, name = Verne\n",
      "correct = male, guess = female, name = Yale\n",
      "correct = male, guess = female, name = Yardley\n",
      "correct = male, guess = female, name = Zacharia\n",
      "correct = male, guess = female, name = Zacharie\n"
     ]
    }
   ],
   "source": [
    "for (tag, guess, name) in sorted(errors):\n",
    "    print(f\"correct = {tag}, guess = {guess}, name = {name}\")"
   ]
  },
  {
   "cell_type": "markdown",
   "metadata": {},
   "source": [
    "Looking through this list of errors makes it clear that some suffixes that are more than one letter can be indicative of name genders. For example, names ending in yn appear to be predominantly female, despite the fact that names ending in n tend to be male; and names ending in ch are usually male, even though names that end in h tend to be female. We therefore adjust our feature extractor to include features for two-letter suffixes:"
   ]
  },
  {
   "cell_type": "code",
   "execution_count": 47,
   "metadata": {},
   "outputs": [
    {
     "name": "stdout",
     "output_type": "stream",
     "text": [
      "0.766\n"
     ]
    }
   ],
   "source": [
    "def gender_features(word):\n",
    "    return {'suffix1': word[-1:],             \n",
    "            'suffix2': word[-2:]}\n",
    "\n",
    "train_set = [(gender_features(n), gender) for (n, gender) in train_names]\n",
    "devtest_set = [(gender_features(n), gender) for (n, gender) in devtest_names]\n",
    "classifier = nltk.NaiveBayesClassifier.train(train_set)\n",
    "print(nltk.classify.accuracy(classifier, devtest_set))\n",
    "\n",
    "## this error analysis process doesn't improve my model, however it can be repeated\n",
    "## many times by checking patterns in the errors to imrpove the performance"
   ]
  },
  {
   "cell_type": "markdown",
   "metadata": {},
   "source": [
    "## Document classification"
   ]
  },
  {
   "cell_type": "code",
   "execution_count": 64,
   "metadata": {},
   "outputs": [],
   "source": [
    "documents = [(list(movie_reviews.words(fileid)), category)\n",
    "            for category in movie_reviews.categories()\n",
    "            for fileid in movie_reviews.fileids(category)]\n",
    "random.shuffle(documents)\n",
    "\n",
    "## most frequent words in the corpora\n",
    "all_words = nltk.FreqDist(w.lower() for w in movie_reviews.words())\n",
    "word_features = list(all_words)[:2000]\n",
    "\n",
    "def document_features(document):\n",
    "    document_words = set(document)\n",
    "    features = {}\n",
    "    for word in word_features:\n",
    "        features[f\" contains({word})\"] = (word in document_words)\n",
    "    return features"
   ]
  },
  {
   "cell_type": "code",
   "execution_count": 69,
   "metadata": {},
   "outputs": [
    {
     "name": "stdout",
     "output_type": "stream",
     "text": [
      "0.85\n"
     ]
    }
   ],
   "source": [
    "feature_sets = [(document_features(d), c) for (d, c) in documents]\n",
    "train_set, test_set = feature_sets[100:], feature_sets[:100]\n",
    "classifier = nltk.NaiveBayesClassifier.train(train_set)\n",
    "print(nltk.classify.accuracy(classifier, test_set))"
   ]
  },
  {
   "cell_type": "code",
   "execution_count": 70,
   "metadata": {},
   "outputs": [
    {
     "name": "stdout",
     "output_type": "stream",
     "text": [
      "Most Informative Features\n",
      "   contains(outstanding) = True              pos : neg    =     13.8 : 1.0\n",
      "        contains(seagal) = True              neg : pos    =      8.1 : 1.0\n",
      "         contains(damon) = True              pos : neg    =      7.9 : 1.0\n",
      "         contains(mulan) = True              pos : neg    =      7.7 : 1.0\n",
      "   contains(wonderfully) = True              pos : neg    =      6.4 : 1.0\n"
     ]
    }
   ],
   "source": [
    "classifier.show_most_informative_features(5)"
   ]
  },
  {
   "cell_type": "markdown",
   "metadata": {},
   "source": [
    "In these documents, a review that mentions seagal is 8 times more likely to be negative than positive. Interesting."
   ]
  },
  {
   "cell_type": "markdown",
   "metadata": {},
   "source": [
    "## Part-of-Speech Tagging"
   ]
  },
  {
   "cell_type": "code",
   "execution_count": 74,
   "metadata": {},
   "outputs": [
    {
     "name": "stdout",
     "output_type": "stream",
     "text": [
      "['e', ',', '.', 's', 'd', 't', 'he', 'n', 'a', 'of', 'the', 'y', 'r', 'to', 'in', 'f', 'o', 'ed', 'nd', 'is', 'on', 'l', 'g', 'and', 'ng', 'er', 'as', 'ing', 'h', 'at', 'es', 'or', 're', 'it', '``', 'an', \"''\", 'm', ';', 'i', 'ly', 'ion', 'en', 'al', '?', 'nt', 'be', 'hat', 'st', 'his', 'th', 'll', 'le', 'ce', 'by', 'ts', 'me', 've', \"'\", 'se', 'ut', 'was', 'for', 'ent', 'ch', 'k', 'w', 'ld', '`', 'rs', 'ted', 'ere', 'her', 'ne', 'ns', 'ith', 'ad', 'ry', ')', '(', 'te', '--', 'ay', 'ty', 'ot', 'p', 'nce', \"'s\", 'ter', 'om', 'ss', ':', 'we', 'are', 'c', 'ers', 'uld', 'had', 'so', 'ey']\n"
     ]
    }
   ],
   "source": [
    "suffix_fdist = nltk.FreqDist()\n",
    "for word in brown.words():\n",
    "    word = word.lower()\n",
    "    suffix_fdist[word[-1:]] += 1\n",
    "    suffix_fdist[word[-2:]] += 1\n",
    "    suffix_fdist[word[-3:]] += 1\n",
    "\n",
    "common_suffixes = [suffix for (suffix, count) in suffix_fdist.most_common(100)]\n",
    "print(common_suffixes)"
   ]
  },
  {
   "cell_type": "code",
   "execution_count": 84,
   "metadata": {},
   "outputs": [],
   "source": [
    "from unicodedata import category\n",
    "\n",
    "\n",
    "def pos_features(word):\n",
    "    feature = {}\n",
    "    for suffix in common_suffixes:\n",
    "        feature[f\"endswith({suffix})\"] = word.lower().endswith(suffix)\n",
    "    return feature\n",
    "\n",
    "## training a decision tree classifier\n",
    "tagged_words = brown.tagged_words(categories= 'news')\n",
    "feature_sets = [(pos_features(n), g) for (n, g) in tagged_words]\n",
    "size = int(len(feature_sets) * 0.1) #10% of the data\n",
    "\n",
    "train_set, test_set = feature_sets[size:], feature_sets[:size]"
   ]
  },
  {
   "cell_type": "markdown",
   "metadata": {},
   "source": []
  },
  {
   "cell_type": "code",
   "execution_count": 85,
   "metadata": {},
   "outputs": [
    {
     "data": {
      "text/plain": [
       "0.6270512182993535"
      ]
     },
     "execution_count": 85,
     "metadata": {},
     "output_type": "execute_result"
    }
   ],
   "source": [
    "classifier = nltk.DecisionTreeClassifier.train(train_set)\n",
    "nltk.classify.accuracy(classifier, test_set)"
   ]
  },
  {
   "cell_type": "markdown",
   "metadata": {},
   "source": [
    "## Exploiting context"
   ]
  },
  {
   "cell_type": "code",
   "execution_count": 87,
   "metadata": {},
   "outputs": [
    {
     "data": {
      "text/plain": [
       "{'suffix1': 'n', 'suffix2': 'on', 'suffix3': 'ion', 'prev_word': 'an'}"
      ]
     },
     "execution_count": 87,
     "metadata": {},
     "output_type": "execute_result"
    }
   ],
   "source": [
    "def pos_features(sentence, i):\n",
    "    features = {\"suffix1\": sentence[i][-1:], \n",
    "                \"suffix2\": sentence[i][-2:], \n",
    "                \"suffix3\": sentence[i][-3:]}\n",
    "    if i == 0:\n",
    "        features['prev_word'] = \"<START>\"\n",
    "    else:\n",
    "        features['prev_word'] = sentence[i-1]\n",
    "    return features\n",
    "\n",
    "pos_features(brown.sents()[0], 8)"
   ]
  },
  {
   "cell_type": "code",
   "execution_count": 89,
   "metadata": {},
   "outputs": [
    {
     "data": {
      "text/plain": [
       "['.']"
      ]
     },
     "execution_count": 89,
     "metadata": {},
     "output_type": "execute_result"
    }
   ],
   "source": [
    "brown.sents()[0][-:]"
   ]
  }
 ],
 "metadata": {
  "kernelspec": {
   "display_name": "Python 3.10.6 64-bit",
   "language": "python",
   "name": "python3"
  },
  "language_info": {
   "codemirror_mode": {
    "name": "ipython",
    "version": 3
   },
   "file_extension": ".py",
   "mimetype": "text/x-python",
   "name": "python",
   "nbconvert_exporter": "python",
   "pygments_lexer": "ipython3",
   "version": "3.10.6"
  },
  "orig_nbformat": 4,
  "vscode": {
   "interpreter": {
    "hash": "aee8b7b246df8f9039afb4144a1f6fd8d2ca17a180786b69acc140d282b71a49"
   }
  }
 },
 "nbformat": 4,
 "nbformat_minor": 2
}
