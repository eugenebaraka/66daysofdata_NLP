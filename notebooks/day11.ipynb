{
 "cells": [
  {
   "cell_type": "markdown",
   "metadata": {},
   "source": [
    "## Choosing the right features\n",
    "\n",
    "Overfitting: the case where the built algorithm relies on the idiosyncrasies of the training data that do not generalize well to new data. \n",
    "\n",
    "To avoid overfitting: use error analysis, which refines the created feature set by: \n",
    "- Selecting development set: divide this set into training and dev-test sets\n",
    "\n",
    "Training set is used to train the model while the dev test is used to perform error analysis. The test set is the used in the final evaluation of our model \n"
   ]
  },
  {
   "cell_type": "code",
   "execution_count": 20,
   "metadata": {},
   "outputs": [],
   "source": [
    "#importing libraries\n",
    "import nltk\n",
    "from nltk.corpus import movie_reviews, names\n",
    "from string import ascii_lowercase\n",
    "import random"
   ]
  },
  {
   "cell_type": "code",
   "execution_count": 21,
   "metadata": {},
   "outputs": [],
   "source": [
    "labeled_names = ([(name, 'male') for name in names.words('male.txt')] + \n",
    "[(name, 'female') for name in names.words('female.txt')])\n",
    "\n",
    "random.shuffle(labeled_names)"
   ]
  },
  {
   "cell_type": "code",
   "execution_count": 23,
   "metadata": {},
   "outputs": [],
   "source": [
    "def gender_features(name):\n",
    "    features = {}\n",
    "    features[\"first_letter\"] = name[0].lower()\n",
    "    features[\"last_letter\"] = name[-1].lower()\n",
    "    for letter in ascii_lowercase:\n",
    "        features[f\"count({letter})\"] = name.lower().count(letter)\n",
    "        features[f\"has({letter})\"] = letter in name.lower()\n",
    "    return features"
   ]
  },
  {
   "cell_type": "code",
   "execution_count": 24,
   "metadata": {},
   "outputs": [
    {
     "name": "stdout",
     "output_type": "stream",
     "text": [
      "{'first_letter': 'e', 'last_letter': 'e', 'count(a)': 0, 'has(a)': False, 'count(b)': 0, 'has(b)': False, 'count(c)': 0, 'has(c)': False, 'count(d)': 0, 'has(d)': False, 'count(e)': 3, 'has(e)': True, 'count(f)': 0, 'has(f)': False, 'count(g)': 1, 'has(g)': True, 'count(h)': 0, 'has(h)': False, 'count(i)': 0, 'has(i)': False, 'count(j)': 0, 'has(j)': False, 'count(k)': 0, 'has(k)': False, 'count(l)': 0, 'has(l)': False, 'count(m)': 0, 'has(m)': False, 'count(n)': 1, 'has(n)': True, 'count(o)': 0, 'has(o)': False, 'count(p)': 0, 'has(p)': False, 'count(q)': 0, 'has(q)': False, 'count(r)': 0, 'has(r)': False, 'count(s)': 0, 'has(s)': False, 'count(t)': 0, 'has(t)': False, 'count(u)': 1, 'has(u)': True, 'count(v)': 0, 'has(v)': False, 'count(w)': 0, 'has(w)': False, 'count(x)': 0, 'has(x)': False, 'count(y)': 0, 'has(y)': False, 'count(z)': 0, 'has(z)': False}\n"
     ]
    }
   ],
   "source": [
    "print(gender_features(\"Eugene\"))"
   ]
  },
  {
   "cell_type": "code",
   "execution_count": 25,
   "metadata": {},
   "outputs": [
    {
     "name": "stdout",
     "output_type": "stream",
     "text": [
      "0.746\n"
     ]
    }
   ],
   "source": [
    "\n",
    "feature_sets = [(gender_features(n), gender) for (n, gender) in labeled_names]\n",
    "train_set , test_set = feature_sets[500:], feature_sets[:500]\n",
    "classifier = nltk.NaiveBayesClassifier.train(train_set)\n",
    "print(nltk.classify.accuracy(classifier, test_set))\n"
   ]
  },
  {
   "cell_type": "code",
   "execution_count": 29,
   "metadata": {},
   "outputs": [
    {
     "name": "stdout",
     "output_type": "stream",
     "text": [
      "0.77\n"
     ]
    }
   ],
   "source": [
    "# Let's improve the accuracy by creating the development test set\n",
    "train_names = labeled_names[1500:]\n",
    "devtest_names = labeled_names[500:1500]\n",
    "test_names = labeled_names[:500]\n",
    "\n",
    "train_set = [(gender_features(n), gender) for (n, gender) in train_names]\n",
    "devtest_set = [(gender_features(n), gender) for (n, gender) in devtest_names]\n",
    "test_set = [(gender_features(n), gender) for (n, gender) in test_names]\n",
    "\n",
    "classifier = nltk.NaiveBayesClassifier.train(train_set)\n",
    "print(nltk.classify.accuracy(classifier, devtest_set))"
   ]
  },
  {
   "cell_type": "code",
   "execution_count": 31,
   "metadata": {},
   "outputs": [],
   "source": [
    "# let's use the dev test set to generate a list of errors the classifier makes when predicting name genders\n",
    "\n",
    "errors = []\n",
    "for (name, tag) in devtest_names:\n",
    "    guess = classifier.classify(gender_features(name))\n",
    "    if guess != tag:\n",
    "        errors.append((tag, guess, name))"
   ]
  },
  {
   "cell_type": "code",
   "execution_count": 37,
   "metadata": {},
   "outputs": [
    {
     "name": "stdout",
     "output_type": "stream",
     "text": [
      "correct = female, guess = male, name = Ambur\n",
      "correct = female, guess = male, name = Aphrodite\n",
      "correct = female, guess = male, name = Ardys\n",
      "correct = female, guess = male, name = Berget\n",
      "correct = female, guess = male, name = Betsey\n",
      "correct = female, guess = male, name = Betty\n",
      "correct = female, guess = male, name = Bridget\n",
      "correct = female, guess = male, name = Brunhilde\n",
      "correct = female, guess = male, name = Cam\n",
      "correct = female, guess = male, name = Chad\n",
      "correct = female, guess = male, name = Christel\n",
      "correct = female, guess = male, name = Chrystal\n",
      "correct = female, guess = male, name = Corey\n",
      "correct = female, guess = male, name = Corliss\n",
      "correct = female, guess = male, name = Corny\n",
      "correct = female, guess = male, name = Demeter\n",
      "correct = female, guess = male, name = Devonne\n",
      "correct = female, guess = male, name = Doe\n",
      "correct = female, guess = male, name = Doreen\n",
      "correct = female, guess = male, name = Dotty\n",
      "correct = female, guess = male, name = Enid\n",
      "correct = female, guess = male, name = Ethelind\n",
      "correct = female, guess = male, name = Faith\n",
      "correct = female, guess = male, name = Faun\n",
      "correct = female, guess = male, name = Fern\n",
      "correct = female, guess = male, name = Flor\n",
      "correct = female, guess = male, name = Franky\n",
      "correct = female, guess = male, name = Gretal\n",
      "correct = female, guess = male, name = Gretchen\n",
      "correct = female, guess = male, name = Gus\n",
      "correct = female, guess = male, name = Gwendolin\n",
      "correct = female, guess = male, name = Gwendolyn\n",
      "correct = female, guess = male, name = Gwenny\n",
      "correct = female, guess = male, name = Gwyn\n",
      "correct = female, guess = male, name = Gwyneth\n",
      "correct = female, guess = male, name = Harmony\n",
      "correct = female, guess = male, name = Hildegaard\n",
      "correct = female, guess = male, name = Iris\n",
      "correct = female, guess = male, name = Jeniffer\n",
      "correct = female, guess = male, name = Jess\n",
      "correct = female, guess = male, name = Jewell\n",
      "correct = female, guess = male, name = Jody\n",
      "correct = female, guess = male, name = Josey\n",
      "correct = female, guess = male, name = Josselyn\n",
      "correct = female, guess = male, name = Juliet\n",
      "correct = female, guess = male, name = Kass\n",
      "correct = female, guess = male, name = Kaster\n",
      "correct = female, guess = male, name = Kipp\n",
      "correct = female, guess = male, name = Koo\n",
      "correct = female, guess = male, name = Kris\n",
      "correct = female, guess = male, name = Kristin\n",
      "correct = female, guess = male, name = Lind\n",
      "correct = female, guess = male, name = Mag\n",
      "correct = female, guess = male, name = Margeaux\n",
      "correct = female, guess = male, name = Maryjo\n",
      "correct = female, guess = male, name = Maryrose\n",
      "correct = female, guess = male, name = Maud\n",
      "correct = female, guess = male, name = Meg\n",
      "correct = female, guess = male, name = Merry\n",
      "correct = female, guess = male, name = Miriam\n",
      "correct = female, guess = male, name = Pam\n",
      "correct = female, guess = male, name = Patsy\n",
      "correct = female, guess = male, name = Phyllys\n",
      "correct = female, guess = male, name = Pris\n",
      "correct = female, guess = male, name = Revkah\n",
      "correct = female, guess = male, name = Rhiamon\n",
      "correct = female, guess = male, name = Robby\n",
      "correct = female, guess = male, name = Robinet\n",
      "correct = female, guess = male, name = Robinett\n",
      "correct = female, guess = male, name = Rosamond\n",
      "correct = female, guess = male, name = Rosemonde\n",
      "correct = female, guess = male, name = Rubie\n",
      "correct = female, guess = male, name = Sam\n",
      "correct = female, guess = male, name = Shandy\n",
      "correct = female, guess = male, name = Shannon\n",
      "correct = female, guess = male, name = Sharon\n",
      "correct = female, guess = male, name = Sharyl\n",
      "correct = female, guess = male, name = Shawn\n",
      "correct = female, guess = male, name = Shelagh\n",
      "correct = female, guess = male, name = Shell\n",
      "correct = female, guess = male, name = Sheree\n",
      "correct = female, guess = male, name = Sheryl\n",
      "correct = female, guess = male, name = Shirl\n",
      "correct = female, guess = male, name = Stephie\n",
      "correct = female, guess = male, name = Stoddard\n",
      "correct = female, guess = male, name = Suki\n",
      "correct = female, guess = male, name = Sussi\n",
      "correct = female, guess = male, name = Suzan\n",
      "correct = female, guess = male, name = Tatum\n",
      "correct = female, guess = male, name = Tessy\n",
      "correct = female, guess = male, name = Tiff\n",
      "correct = female, guess = male, name = Timmy\n",
      "correct = female, guess = male, name = Torrie\n",
      "correct = female, guess = male, name = Trudy\n",
      "correct = female, guess = male, name = Venus\n",
      "correct = female, guess = male, name = Veronique\n",
      "correct = female, guess = male, name = Wallie\n",
      "correct = female, guess = male, name = Yehudit\n",
      "correct = male, guess = female, name = Aamir\n",
      "correct = male, guess = female, name = Abdel\n",
      "correct = male, guess = female, name = Abdullah\n",
      "correct = male, guess = female, name = Ajay\n",
      "correct = male, guess = female, name = Alden\n",
      "correct = male, guess = female, name = Anatoly\n",
      "correct = male, guess = female, name = Ansell\n",
      "correct = male, guess = female, name = Antoni\n",
      "correct = male, guess = female, name = Archy\n",
      "correct = male, guess = female, name = Arie\n",
      "correct = male, guess = female, name = Ariel\n",
      "correct = male, guess = female, name = Arne\n",
      "correct = male, guess = female, name = Arnie\n",
      "correct = male, guess = female, name = Ashish\n",
      "correct = male, guess = female, name = Augie\n",
      "correct = male, guess = female, name = Augustine\n",
      "correct = male, guess = female, name = Aylmer\n",
      "correct = male, guess = female, name = Barri\n",
      "correct = male, guess = female, name = Bartie\n",
      "correct = male, guess = female, name = Basil\n",
      "correct = male, guess = female, name = Beale\n",
      "correct = male, guess = female, name = Bernie\n",
      "correct = male, guess = female, name = Carleigh\n",
      "correct = male, guess = female, name = Case\n",
      "correct = male, guess = female, name = Chaddie\n",
      "correct = male, guess = female, name = Clare\n",
      "correct = male, guess = female, name = Clemente\n",
      "correct = male, guess = female, name = Clinten\n",
      "correct = male, guess = female, name = Conan\n",
      "correct = male, guess = female, name = Cy\n",
      "correct = male, guess = female, name = Cyrill\n",
      "correct = male, guess = female, name = Dane\n",
      "correct = male, guess = female, name = Donal\n",
      "correct = male, guess = female, name = Donnie\n",
      "correct = male, guess = female, name = Dwaine\n",
      "correct = male, guess = female, name = Earl\n",
      "correct = male, guess = female, name = Elden\n",
      "correct = male, guess = female, name = Elias\n",
      "correct = male, guess = female, name = Elisha\n",
      "correct = male, guess = female, name = Ellis\n",
      "correct = male, guess = female, name = Elmore\n",
      "correct = male, guess = female, name = Emmery\n",
      "correct = male, guess = female, name = Erich\n",
      "correct = male, guess = female, name = Evan\n",
      "correct = male, guess = female, name = Ezechiel\n",
      "correct = male, guess = female, name = Fairfax\n",
      "correct = male, guess = female, name = Felice\n",
      "correct = male, guess = female, name = Filipe\n",
      "correct = male, guess = female, name = Finley\n",
      "correct = male, guess = female, name = Finn\n",
      "correct = male, guess = female, name = Freddie\n",
      "correct = male, guess = female, name = Gail\n",
      "correct = male, guess = female, name = Gallagher\n",
      "correct = male, guess = female, name = Gamaliel\n",
      "correct = male, guess = female, name = Graehme\n",
      "correct = male, guess = female, name = Hale\n",
      "correct = male, guess = female, name = Harlin\n",
      "correct = male, guess = female, name = Harvie\n",
      "correct = male, guess = female, name = Henri\n",
      "correct = male, guess = female, name = Ignace\n",
      "correct = male, guess = female, name = Israel\n",
      "correct = male, guess = female, name = Izzy\n",
      "correct = male, guess = female, name = Jedediah\n",
      "correct = male, guess = female, name = Johnnie\n",
      "correct = male, guess = female, name = Jonathan\n",
      "correct = male, guess = female, name = Kalman\n",
      "correct = male, guess = female, name = Keil\n",
      "correct = male, guess = female, name = Kelly\n",
      "correct = male, guess = female, name = Kin\n",
      "correct = male, guess = female, name = Kingsly\n",
      "correct = male, guess = female, name = Klee\n",
      "correct = male, guess = female, name = Kyle\n",
      "correct = male, guess = female, name = Lamar\n",
      "correct = male, guess = female, name = Laurance\n",
      "correct = male, guess = female, name = Leigh\n",
      "correct = male, guess = female, name = Lemmie\n",
      "correct = male, guess = female, name = Leon\n",
      "correct = male, guess = female, name = Levy\n",
      "correct = male, guess = female, name = Lindsey\n",
      "correct = male, guess = female, name = Lucian\n",
      "correct = male, guess = female, name = Maddie\n",
      "correct = male, guess = female, name = Maddy\n",
      "correct = male, guess = female, name = Marshal\n",
      "correct = male, guess = female, name = Martainn\n",
      "correct = male, guess = female, name = Marty\n",
      "correct = male, guess = female, name = Mattie\n",
      "correct = male, guess = female, name = Maximilien\n",
      "correct = male, guess = female, name = Merril\n",
      "correct = male, guess = female, name = Micah\n",
      "correct = male, guess = female, name = Micheal\n",
      "correct = male, guess = female, name = Mitchel\n",
      "correct = male, guess = female, name = Nevile\n",
      "correct = male, guess = female, name = Niall\n",
      "correct = male, guess = female, name = Noel\n",
      "correct = male, guess = female, name = Ole\n",
      "correct = male, guess = female, name = Parsifal\n",
      "correct = male, guess = female, name = Pascal\n",
      "correct = male, guess = female, name = Phillipp\n",
      "correct = male, guess = female, name = Rafael\n",
      "correct = male, guess = female, name = Randi\n",
      "correct = male, guess = female, name = Ravil\n",
      "correct = male, guess = female, name = Reilly\n",
      "correct = male, guess = female, name = Roice\n",
      "correct = male, guess = female, name = Ronnie\n",
      "correct = male, guess = female, name = Salomone\n",
      "correct = male, guess = female, name = Salvatore\n",
      "correct = male, guess = female, name = Saundra\n",
      "correct = male, guess = female, name = Scarface\n",
      "correct = male, guess = female, name = Sebastien\n",
      "correct = male, guess = female, name = Shanan\n",
      "correct = male, guess = female, name = Shane\n",
      "correct = male, guess = female, name = Shea\n",
      "correct = male, guess = female, name = Si\n",
      "correct = male, guess = female, name = Sidney\n",
      "correct = male, guess = female, name = Simone\n",
      "correct = male, guess = female, name = Smitty\n",
      "correct = male, guess = female, name = Spense\n",
      "correct = male, guess = female, name = Stillman\n",
      "correct = male, guess = female, name = Stillmann\n",
      "correct = male, guess = female, name = Sullivan\n",
      "correct = male, guess = female, name = Sylvan\n",
      "correct = male, guess = female, name = Tally\n",
      "correct = male, guess = female, name = Teddie\n",
      "correct = male, guess = female, name = Tristan\n",
      "correct = male, guess = female, name = Val\n",
      "correct = male, guess = female, name = Van\n",
      "correct = male, guess = female, name = Vasily\n",
      "correct = male, guess = female, name = Verne\n",
      "correct = male, guess = female, name = Yale\n",
      "correct = male, guess = female, name = Yardley\n",
      "correct = male, guess = female, name = Zacharia\n",
      "correct = male, guess = female, name = Zacharie\n"
     ]
    }
   ],
   "source": [
    "for (tag, guess, name) in sorted(errors):\n",
    "    print(f\"correct = {tag}, guess = {guess}, name = {name}\")"
   ]
  },
  {
   "cell_type": "markdown",
   "metadata": {},
   "source": [
    "Looking through this list of errors makes it clear that some suffixes that are more than one letter can be indicative of name genders. For example, names ending in yn appear to be predominantly female, despite the fact that names ending in n tend to be male; and names ending in ch are usually male, even though names that end in h tend to be female. We therefore adjust our feature extractor to include features for two-letter suffixes:"
   ]
  },
  {
   "cell_type": "code",
   "execution_count": 39,
   "metadata": {},
   "outputs": [
    {
     "ename": "TypeError",
     "evalue": "unhashable type: 'slice'",
     "output_type": "error",
     "traceback": [
      "\u001b[0;31m---------------------------------------------------------------------------\u001b[0m",
      "\u001b[0;31mTypeError\u001b[0m                                 Traceback (most recent call last)",
      "\u001b[1;32m/Users/eugen/Desktop/Work/Git/66daysofdata_NLP/notebooks/day11.ipynb Cell 11\u001b[0m in \u001b[0;36m<cell line: 6>\u001b[0;34m()\u001b[0m\n\u001b[1;32m      <a href='vscode-notebook-cell:/Users/eugen/Desktop/Work/Git/66daysofdata_NLP/notebooks/day11.ipynb#X23sZmlsZQ%3D%3D?line=1'>2</a>\u001b[0m     \u001b[39mreturn\u001b[39;00m {\u001b[39m'\u001b[39m\u001b[39msuffix1\u001b[39m\u001b[39m'\u001b[39m: word[\u001b[39m-\u001b[39m\u001b[39m1\u001b[39m:], \n\u001b[1;32m      <a href='vscode-notebook-cell:/Users/eugen/Desktop/Work/Git/66daysofdata_NLP/notebooks/day11.ipynb#X23sZmlsZQ%3D%3D?line=2'>3</a>\u001b[0m             \u001b[39m'\u001b[39m\u001b[39msuffix2\u001b[39m\u001b[39m'\u001b[39m: word[\u001b[39m-\u001b[39m\u001b[39m2\u001b[39m:]}\n\u001b[1;32m      <a href='vscode-notebook-cell:/Users/eugen/Desktop/Work/Git/66daysofdata_NLP/notebooks/day11.ipynb#X23sZmlsZQ%3D%3D?line=4'>5</a>\u001b[0m train_set \u001b[39m=\u001b[39m [(gender_features(n), gender) \u001b[39mfor\u001b[39;00m (n, gender) \u001b[39min\u001b[39;00m train_names]\n\u001b[0;32m----> <a href='vscode-notebook-cell:/Users/eugen/Desktop/Work/Git/66daysofdata_NLP/notebooks/day11.ipynb#X23sZmlsZQ%3D%3D?line=5'>6</a>\u001b[0m devtest_set \u001b[39m=\u001b[39m [(gender_features(n), gender) \u001b[39mfor\u001b[39;00m (n, gender) \u001b[39min\u001b[39;00m devtest_set]\n\u001b[1;32m      <a href='vscode-notebook-cell:/Users/eugen/Desktop/Work/Git/66daysofdata_NLP/notebooks/day11.ipynb#X23sZmlsZQ%3D%3D?line=6'>7</a>\u001b[0m test_set \u001b[39m=\u001b[39m [(gender_features(n), gender) \u001b[39mfor\u001b[39;00m (n, gender) \u001b[39min\u001b[39;00m test_set]\n",
      "\u001b[1;32m/Users/eugen/Desktop/Work/Git/66daysofdata_NLP/notebooks/day11.ipynb Cell 11\u001b[0m in \u001b[0;36m<listcomp>\u001b[0;34m(.0)\u001b[0m\n\u001b[1;32m      <a href='vscode-notebook-cell:/Users/eugen/Desktop/Work/Git/66daysofdata_NLP/notebooks/day11.ipynb#X23sZmlsZQ%3D%3D?line=1'>2</a>\u001b[0m     \u001b[39mreturn\u001b[39;00m {\u001b[39m'\u001b[39m\u001b[39msuffix1\u001b[39m\u001b[39m'\u001b[39m: word[\u001b[39m-\u001b[39m\u001b[39m1\u001b[39m:], \n\u001b[1;32m      <a href='vscode-notebook-cell:/Users/eugen/Desktop/Work/Git/66daysofdata_NLP/notebooks/day11.ipynb#X23sZmlsZQ%3D%3D?line=2'>3</a>\u001b[0m             \u001b[39m'\u001b[39m\u001b[39msuffix2\u001b[39m\u001b[39m'\u001b[39m: word[\u001b[39m-\u001b[39m\u001b[39m2\u001b[39m:]}\n\u001b[1;32m      <a href='vscode-notebook-cell:/Users/eugen/Desktop/Work/Git/66daysofdata_NLP/notebooks/day11.ipynb#X23sZmlsZQ%3D%3D?line=4'>5</a>\u001b[0m train_set \u001b[39m=\u001b[39m [(gender_features(n), gender) \u001b[39mfor\u001b[39;00m (n, gender) \u001b[39min\u001b[39;00m train_names]\n\u001b[0;32m----> <a href='vscode-notebook-cell:/Users/eugen/Desktop/Work/Git/66daysofdata_NLP/notebooks/day11.ipynb#X23sZmlsZQ%3D%3D?line=5'>6</a>\u001b[0m devtest_set \u001b[39m=\u001b[39m [(gender_features(n), gender) \u001b[39mfor\u001b[39;00m (n, gender) \u001b[39min\u001b[39;00m devtest_set]\n\u001b[1;32m      <a href='vscode-notebook-cell:/Users/eugen/Desktop/Work/Git/66daysofdata_NLP/notebooks/day11.ipynb#X23sZmlsZQ%3D%3D?line=6'>7</a>\u001b[0m test_set \u001b[39m=\u001b[39m [(gender_features(n), gender) \u001b[39mfor\u001b[39;00m (n, gender) \u001b[39min\u001b[39;00m test_set]\n",
      "\u001b[1;32m/Users/eugen/Desktop/Work/Git/66daysofdata_NLP/notebooks/day11.ipynb Cell 11\u001b[0m in \u001b[0;36mgender_features\u001b[0;34m(word)\u001b[0m\n\u001b[1;32m      <a href='vscode-notebook-cell:/Users/eugen/Desktop/Work/Git/66daysofdata_NLP/notebooks/day11.ipynb#X23sZmlsZQ%3D%3D?line=0'>1</a>\u001b[0m \u001b[39mdef\u001b[39;00m \u001b[39mgender_features\u001b[39m(word):\n\u001b[0;32m----> <a href='vscode-notebook-cell:/Users/eugen/Desktop/Work/Git/66daysofdata_NLP/notebooks/day11.ipynb#X23sZmlsZQ%3D%3D?line=1'>2</a>\u001b[0m     \u001b[39mreturn\u001b[39;00m {\u001b[39m'\u001b[39m\u001b[39msuffix1\u001b[39m\u001b[39m'\u001b[39m: word[\u001b[39m-\u001b[39;49m\u001b[39m1\u001b[39;49m:], \n\u001b[1;32m      <a href='vscode-notebook-cell:/Users/eugen/Desktop/Work/Git/66daysofdata_NLP/notebooks/day11.ipynb#X23sZmlsZQ%3D%3D?line=2'>3</a>\u001b[0m             \u001b[39m'\u001b[39m\u001b[39msuffix2\u001b[39m\u001b[39m'\u001b[39m: word[\u001b[39m-\u001b[39m\u001b[39m2\u001b[39m:]}\n",
      "\u001b[0;31mTypeError\u001b[0m: unhashable type: 'slice'"
     ]
    }
   ],
   "source": [
    "def gender_features(word):\n",
    "    return {'suffix1': word[-1:], \n",
    "            'suffix2': word[-2:]}\n",
    "\n",
    "train_set = [(gender_features(n), gender) for (n, gender) in train_names]\n",
    "devtest_set = [(gender_features(n), gender) for (n, gender) in devtest_set]\n",
    "test_set = [(gender_features(n), gender) for (n, gender) in test_set]\n",
    "\n"
   ]
  },
  {
   "cell_type": "code",
   "execution_count": null,
   "metadata": {},
   "outputs": [],
   "source": []
  },
  {
   "cell_type": "code",
   "execution_count": 19,
   "metadata": {},
   "outputs": [
    {
     "ename": "LookupError",
     "evalue": "\n**********************************************************************\n  Resource \u001b[93mmovie_reviews\u001b[0m not found.\n  Please use the NLTK Downloader to obtain the resource:\n\n  \u001b[31m>>> import nltk\n  >>> nltk.download('movie_reviews')\n  \u001b[0m\n  For more information see: https://www.nltk.org/data.html\n\n  Attempted to load \u001b[93mcorpora/movie_reviews\u001b[0m\n\n  Searched in:\n    - '/Users/eugen/nltk_data'\n    - '/Library/Frameworks/Python.framework/Versions/3.10/nltk_data'\n    - '/Library/Frameworks/Python.framework/Versions/3.10/share/nltk_data'\n    - '/Library/Frameworks/Python.framework/Versions/3.10/lib/nltk_data'\n    - '/usr/share/nltk_data'\n    - '/usr/local/share/nltk_data'\n    - '/usr/lib/nltk_data'\n    - '/usr/local/lib/nltk_data'\n**********************************************************************\n",
     "output_type": "error",
     "traceback": [
      "\u001b[0;31m---------------------------------------------------------------------------\u001b[0m",
      "\u001b[0;31mLookupError\u001b[0m                               Traceback (most recent call last)",
      "File \u001b[0;32m/Library/Frameworks/Python.framework/Versions/3.10/lib/python3.10/site-packages/nltk/corpus/util.py:84\u001b[0m, in \u001b[0;36mLazyCorpusLoader.__load\u001b[0;34m(self)\u001b[0m\n\u001b[1;32m     83\u001b[0m \u001b[39mtry\u001b[39;00m:\n\u001b[0;32m---> 84\u001b[0m     root \u001b[39m=\u001b[39m nltk\u001b[39m.\u001b[39;49mdata\u001b[39m.\u001b[39;49mfind(\u001b[39mf\u001b[39;49m\u001b[39m\"\u001b[39;49m\u001b[39m{\u001b[39;49;00m\u001b[39mself\u001b[39;49m\u001b[39m.\u001b[39;49msubdir\u001b[39m}\u001b[39;49;00m\u001b[39m/\u001b[39;49m\u001b[39m{\u001b[39;49;00mzip_name\u001b[39m}\u001b[39;49;00m\u001b[39m\"\u001b[39;49m)\n\u001b[1;32m     85\u001b[0m \u001b[39mexcept\u001b[39;00m \u001b[39mLookupError\u001b[39;00m:\n",
      "File \u001b[0;32m/Library/Frameworks/Python.framework/Versions/3.10/lib/python3.10/site-packages/nltk/data.py:583\u001b[0m, in \u001b[0;36mfind\u001b[0;34m(resource_name, paths)\u001b[0m\n\u001b[1;32m    582\u001b[0m resource_not_found \u001b[39m=\u001b[39m \u001b[39mf\u001b[39m\u001b[39m\"\u001b[39m\u001b[39m\\n\u001b[39;00m\u001b[39m{\u001b[39;00msep\u001b[39m}\u001b[39;00m\u001b[39m\\n\u001b[39;00m\u001b[39m{\u001b[39;00mmsg\u001b[39m}\u001b[39;00m\u001b[39m\\n\u001b[39;00m\u001b[39m{\u001b[39;00msep\u001b[39m}\u001b[39;00m\u001b[39m\\n\u001b[39;00m\u001b[39m\"\u001b[39m\n\u001b[0;32m--> 583\u001b[0m \u001b[39mraise\u001b[39;00m \u001b[39mLookupError\u001b[39;00m(resource_not_found)\n",
      "\u001b[0;31mLookupError\u001b[0m: \n**********************************************************************\n  Resource \u001b[93mmovie_reviews\u001b[0m not found.\n  Please use the NLTK Downloader to obtain the resource:\n\n  \u001b[31m>>> import nltk\n  >>> nltk.download('movie_reviews')\n  \u001b[0m\n  For more information see: https://www.nltk.org/data.html\n\n  Attempted to load \u001b[93mcorpora/movie_reviews.zip/movie_reviews/\u001b[0m\n\n  Searched in:\n    - '/Users/eugen/nltk_data'\n    - '/Library/Frameworks/Python.framework/Versions/3.10/nltk_data'\n    - '/Library/Frameworks/Python.framework/Versions/3.10/share/nltk_data'\n    - '/Library/Frameworks/Python.framework/Versions/3.10/lib/nltk_data'\n    - '/usr/share/nltk_data'\n    - '/usr/local/share/nltk_data'\n    - '/usr/lib/nltk_data'\n    - '/usr/local/lib/nltk_data'\n**********************************************************************\n",
      "\nDuring handling of the above exception, another exception occurred:\n",
      "\u001b[0;31mLookupError\u001b[0m                               Traceback (most recent call last)",
      "\u001b[1;32m/Users/eugen/Desktop/Work/Git/66daysofdata_NLP/notebooks/day11.ipynb Cell 3\u001b[0m in \u001b[0;36m<cell line: 1>\u001b[0;34m()\u001b[0m\n\u001b[1;32m      <a href='vscode-notebook-cell:/Users/eugen/Desktop/Work/Git/66daysofdata_NLP/notebooks/day11.ipynb#W2sZmlsZQ%3D%3D?line=0'>1</a>\u001b[0m documents \u001b[39m=\u001b[39m [(\u001b[39mlist\u001b[39m(movie_reviews\u001b[39m.\u001b[39mwords(fileid)), category)\n\u001b[0;32m----> <a href='vscode-notebook-cell:/Users/eugen/Desktop/Work/Git/66daysofdata_NLP/notebooks/day11.ipynb#W2sZmlsZQ%3D%3D?line=1'>2</a>\u001b[0m     \u001b[39mfor\u001b[39;00m category \u001b[39min\u001b[39;00m movie_reviews\u001b[39m.\u001b[39;49mcategories()\n\u001b[1;32m      <a href='vscode-notebook-cell:/Users/eugen/Desktop/Work/Git/66daysofdata_NLP/notebooks/day11.ipynb#W2sZmlsZQ%3D%3D?line=2'>3</a>\u001b[0m     \u001b[39mfor\u001b[39;00m fileid \u001b[39min\u001b[39;00m movie_reviews\u001b[39m.\u001b[39mfileids(category)]\n",
      "File \u001b[0;32m/Library/Frameworks/Python.framework/Versions/3.10/lib/python3.10/site-packages/nltk/corpus/util.py:121\u001b[0m, in \u001b[0;36mLazyCorpusLoader.__getattr__\u001b[0;34m(self, attr)\u001b[0m\n\u001b[1;32m    118\u001b[0m \u001b[39mif\u001b[39;00m attr \u001b[39m==\u001b[39m \u001b[39m\"\u001b[39m\u001b[39m__bases__\u001b[39m\u001b[39m\"\u001b[39m:\n\u001b[1;32m    119\u001b[0m     \u001b[39mraise\u001b[39;00m \u001b[39mAttributeError\u001b[39;00m(\u001b[39m\"\u001b[39m\u001b[39mLazyCorpusLoader object has no attribute \u001b[39m\u001b[39m'\u001b[39m\u001b[39m__bases__\u001b[39m\u001b[39m'\u001b[39m\u001b[39m\"\u001b[39m)\n\u001b[0;32m--> 121\u001b[0m \u001b[39mself\u001b[39;49m\u001b[39m.\u001b[39;49m__load()\n\u001b[1;32m    122\u001b[0m \u001b[39m# This looks circular, but its not, since __load() changes our\u001b[39;00m\n\u001b[1;32m    123\u001b[0m \u001b[39m# __class__ to something new:\u001b[39;00m\n\u001b[1;32m    124\u001b[0m \u001b[39mreturn\u001b[39;00m \u001b[39mgetattr\u001b[39m(\u001b[39mself\u001b[39m, attr)\n",
      "File \u001b[0;32m/Library/Frameworks/Python.framework/Versions/3.10/lib/python3.10/site-packages/nltk/corpus/util.py:86\u001b[0m, in \u001b[0;36mLazyCorpusLoader.__load\u001b[0;34m(self)\u001b[0m\n\u001b[1;32m     84\u001b[0m             root \u001b[39m=\u001b[39m nltk\u001b[39m.\u001b[39mdata\u001b[39m.\u001b[39mfind(\u001b[39mf\u001b[39m\u001b[39m\"\u001b[39m\u001b[39m{\u001b[39;00m\u001b[39mself\u001b[39m\u001b[39m.\u001b[39msubdir\u001b[39m}\u001b[39;00m\u001b[39m/\u001b[39m\u001b[39m{\u001b[39;00mzip_name\u001b[39m}\u001b[39;00m\u001b[39m\"\u001b[39m)\n\u001b[1;32m     85\u001b[0m         \u001b[39mexcept\u001b[39;00m \u001b[39mLookupError\u001b[39;00m:\n\u001b[0;32m---> 86\u001b[0m             \u001b[39mraise\u001b[39;00m e\n\u001b[1;32m     88\u001b[0m \u001b[39m# Load the corpus.\u001b[39;00m\n\u001b[1;32m     89\u001b[0m corpus \u001b[39m=\u001b[39m \u001b[39mself\u001b[39m\u001b[39m.\u001b[39m__reader_cls(root, \u001b[39m*\u001b[39m\u001b[39mself\u001b[39m\u001b[39m.\u001b[39m__args, \u001b[39m*\u001b[39m\u001b[39m*\u001b[39m\u001b[39mself\u001b[39m\u001b[39m.\u001b[39m__kwargs)\n",
      "File \u001b[0;32m/Library/Frameworks/Python.framework/Versions/3.10/lib/python3.10/site-packages/nltk/corpus/util.py:81\u001b[0m, in \u001b[0;36mLazyCorpusLoader.__load\u001b[0;34m(self)\u001b[0m\n\u001b[1;32m     79\u001b[0m \u001b[39melse\u001b[39;00m:\n\u001b[1;32m     80\u001b[0m     \u001b[39mtry\u001b[39;00m:\n\u001b[0;32m---> 81\u001b[0m         root \u001b[39m=\u001b[39m nltk\u001b[39m.\u001b[39;49mdata\u001b[39m.\u001b[39;49mfind(\u001b[39mf\u001b[39;49m\u001b[39m\"\u001b[39;49m\u001b[39m{\u001b[39;49;00m\u001b[39mself\u001b[39;49m\u001b[39m.\u001b[39;49msubdir\u001b[39m}\u001b[39;49;00m\u001b[39m/\u001b[39;49m\u001b[39m{\u001b[39;49;00m\u001b[39mself\u001b[39;49m\u001b[39m.\u001b[39;49m__name\u001b[39m}\u001b[39;49;00m\u001b[39m\"\u001b[39;49m)\n\u001b[1;32m     82\u001b[0m     \u001b[39mexcept\u001b[39;00m \u001b[39mLookupError\u001b[39;00m \u001b[39mas\u001b[39;00m e:\n\u001b[1;32m     83\u001b[0m         \u001b[39mtry\u001b[39;00m:\n",
      "File \u001b[0;32m/Library/Frameworks/Python.framework/Versions/3.10/lib/python3.10/site-packages/nltk/data.py:583\u001b[0m, in \u001b[0;36mfind\u001b[0;34m(resource_name, paths)\u001b[0m\n\u001b[1;32m    581\u001b[0m sep \u001b[39m=\u001b[39m \u001b[39m\"\u001b[39m\u001b[39m*\u001b[39m\u001b[39m\"\u001b[39m \u001b[39m*\u001b[39m \u001b[39m70\u001b[39m\n\u001b[1;32m    582\u001b[0m resource_not_found \u001b[39m=\u001b[39m \u001b[39mf\u001b[39m\u001b[39m\"\u001b[39m\u001b[39m\\n\u001b[39;00m\u001b[39m{\u001b[39;00msep\u001b[39m}\u001b[39;00m\u001b[39m\\n\u001b[39;00m\u001b[39m{\u001b[39;00mmsg\u001b[39m}\u001b[39;00m\u001b[39m\\n\u001b[39;00m\u001b[39m{\u001b[39;00msep\u001b[39m}\u001b[39;00m\u001b[39m\\n\u001b[39;00m\u001b[39m\"\u001b[39m\n\u001b[0;32m--> 583\u001b[0m \u001b[39mraise\u001b[39;00m \u001b[39mLookupError\u001b[39;00m(resource_not_found)\n",
      "\u001b[0;31mLookupError\u001b[0m: \n**********************************************************************\n  Resource \u001b[93mmovie_reviews\u001b[0m not found.\n  Please use the NLTK Downloader to obtain the resource:\n\n  \u001b[31m>>> import nltk\n  >>> nltk.download('movie_reviews')\n  \u001b[0m\n  For more information see: https://www.nltk.org/data.html\n\n  Attempted to load \u001b[93mcorpora/movie_reviews\u001b[0m\n\n  Searched in:\n    - '/Users/eugen/nltk_data'\n    - '/Library/Frameworks/Python.framework/Versions/3.10/nltk_data'\n    - '/Library/Frameworks/Python.framework/Versions/3.10/share/nltk_data'\n    - '/Library/Frameworks/Python.framework/Versions/3.10/lib/nltk_data'\n    - '/usr/share/nltk_data'\n    - '/usr/local/share/nltk_data'\n    - '/usr/lib/nltk_data'\n    - '/usr/local/lib/nltk_data'\n**********************************************************************\n"
     ]
    }
   ],
   "source": [
    "documents = [(list(movie_reviews.words(fileid)), category)\n",
    "    for category in movie_reviews.categories()\n",
    "    for fileid in movie_reviews.fileids(category)]"
   ]
  },
  {
   "cell_type": "code",
   "execution_count": 13,
   "metadata": {},
   "outputs": [
    {
     "name": "stderr",
     "output_type": "stream",
     "text": [
      "[nltk_data] Error loading movie_reviews: <urlopen error [SSL:\n",
      "[nltk_data]     CERTIFICATE_VERIFY_FAILED] certificate verify failed:\n",
      "[nltk_data]     unable to get local issuer certificate (_ssl.c:997)>\n"
     ]
    },
    {
     "data": {
      "text/plain": [
       "False"
      ]
     },
     "execution_count": 13,
     "metadata": {},
     "output_type": "execute_result"
    }
   ],
   "source": [
    "nltk.download('movie_reviews')"
   ]
  },
  {
   "cell_type": "code",
   "execution_count": 15,
   "metadata": {},
   "outputs": [
    {
     "name": "stderr",
     "output_type": "stream",
     "text": [
      "[nltk_data] Error loading movie_reviews: <urlopen error [SSL:\n",
      "[nltk_data]     CERTIFICATE_VERIFY_FAILED] certificate verify failed:\n",
      "[nltk_data]     unable to get local issuer certificate (_ssl.c:997)>\n"
     ]
    },
    {
     "data": {
      "text/plain": [
       "False"
      ]
     },
     "execution_count": 15,
     "metadata": {},
     "output_type": "execute_result"
    }
   ],
   "source": [
    "nltk.download('movie_reviews')"
   ]
  },
  {
   "cell_type": "code",
   "execution_count": 16,
   "metadata": {},
   "outputs": [
    {
     "name": "stderr",
     "output_type": "stream",
     "text": [
      "[nltk_data] Error loading movie_reviews: <urlopen error [SSL:\n",
      "[nltk_data]     CERTIFICATE_VERIFY_FAILED] certificate verify failed:\n",
      "[nltk_data]     unable to get local issuer certificate (_ssl.c:997)>\n"
     ]
    },
    {
     "data": {
      "text/plain": [
       "False"
      ]
     },
     "execution_count": 16,
     "metadata": {},
     "output_type": "execute_result"
    }
   ],
   "source": [
    "import nltk\n",
    "nltk.download('movie_reviews')"
   ]
  },
  {
   "cell_type": "code",
   "execution_count": 1,
   "metadata": {},
   "outputs": [
    {
     "name": "stdout",
     "output_type": "stream",
     "text": [
      "showing info https://raw.githubusercontent.com/nltk/nltk_data/gh-pages/index.xml\n"
     ]
    },
    {
     "data": {
      "text/plain": [
       "True"
      ]
     },
     "execution_count": 1,
     "metadata": {},
     "output_type": "execute_result"
    },
    {
     "ename": "",
     "evalue": "",
     "output_type": "error",
     "traceback": [
      "The Kernel crashed while executing code in the the current cell or a previous cell. Please review the code in the cell(s) to identify a possible cause of the failure. Click <a href='https://aka.ms/vscodeJupyterKernelCrash'>here</a> for more info. View Jupyter <a href='command:jupyter.viewOutput'>log</a> for further details."
     ]
    }
   ],
   "source": [
    "import nltk\n",
    "import ssl\n",
    "\n",
    "try:\n",
    "    _create_unverified_https_context = ssl._create_unverified_context\n",
    "except AttributeError:\n",
    "    pass\n",
    "else:\n",
    "    ssl._create_default_https_context = _create_unverified_https_context\n",
    "\n",
    "nltk.download()"
   ]
  },
  {
   "cell_type": "code",
   "execution_count": null,
   "metadata": {},
   "outputs": [],
   "source": []
  }
 ],
 "metadata": {
  "kernelspec": {
   "display_name": "Python 3.10.6 64-bit",
   "language": "python",
   "name": "python3"
  },
  "language_info": {
   "codemirror_mode": {
    "name": "ipython",
    "version": 3
   },
   "file_extension": ".py",
   "mimetype": "text/x-python",
   "name": "python",
   "nbconvert_exporter": "python",
   "pygments_lexer": "ipython3",
   "version": "3.10.6"
  },
  "orig_nbformat": 4,
  "vscode": {
   "interpreter": {
    "hash": "aee8b7b246df8f9039afb4144a1f6fd8d2ca17a180786b69acc140d282b71a49"
   }
  }
 },
 "nbformat": 4,
 "nbformat_minor": 2
}
