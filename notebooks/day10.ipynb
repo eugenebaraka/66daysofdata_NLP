{
  "nbformat": 4,
  "nbformat_minor": 0,
  "metadata": {
    "colab": {
      "name": "day10.ipynb",
      "provenance": [],
      "authorship_tag": "ABX9TyOnQBkf6WThC/yjQwJCA/Lb",
      "include_colab_link": true
    },
    "kernelspec": {
      "name": "python3",
      "display_name": "Python 3"
    },
    "language_info": {
      "name": "python"
    }
  },
  "cells": [
    {
      "cell_type": "markdown",
      "metadata": {
        "id": "view-in-github",
        "colab_type": "text"
      },
      "source": [
        "<a href=\"https://colab.research.google.com/github/eugenebaraka/66daysofdata_NLP/blob/main/day10.ipynb\" target=\"_parent\"><img src=\"https://colab.research.google.com/assets/colab-badge.svg\" alt=\"Open In Colab\"/></a>"
      ]
    },
    {
      "cell_type": "code",
      "execution_count": null,
      "metadata": {
        "id": "hjorASUV164p"
      },
      "outputs": [],
      "source": [
        ""
      ]
    },
    {
      "cell_type": "code",
      "source": [
        "pos = {}\n",
        "pos['colorless'] = 'ADJ'\n",
        "pos['ideas'] = 'N'\n",
        "pos['sleep'] = 'V'\n",
        "pos['furiously'] = 'ADV'\n",
        "\n",
        "for key, val in pos.items():\n",
        "  print(f\"{key}:{val}\")"
      ],
      "metadata": {
        "colab": {
          "base_uri": "https://localhost:8080/"
        },
        "id": "ImBtoWiW3R9e",
        "outputId": "931ee62f-d52e-4a99-935a-2463a9e374ba"
      },
      "execution_count": null,
      "outputs": [
        {
          "output_type": "stream",
          "name": "stdout",
          "text": [
            "colorless:ADJ\n",
            "ideas:N\n",
            "sleep:V\n",
            "furiously:ADV\n"
          ]
        }
      ]
    },
    {
      "cell_type": "code",
      "source": [
        "from collections import defaultdict\n",
        "frequency = defaultdict(int)\n",
        "# frequency['colorless'] = 4\n",
        "# frequency['ideas']\n",
        "frequency"
      ],
      "metadata": {
        "colab": {
          "base_uri": "https://localhost:8080/"
        },
        "id": "ge3U9DCT5dAb",
        "outputId": "21e9212d-779d-4420-a05a-145e223e3e3b"
      },
      "execution_count": null,
      "outputs": [
        {
          "output_type": "execute_result",
          "data": {
            "text/plain": [
              "defaultdict(int, {})"
            ]
          },
          "metadata": {},
          "execution_count": 8
        }
      ]
    },
    {
      "cell_type": "code",
      "source": [
        "pos.update({'cats': 'N', 'scratch': 'V', 'peacefully': 'ADV', 'old': 'ADJ'})\n",
        "pos2 = defaultdict(list)\n",
        "for key, value in pos.items():\n",
        "  pos2[value].append(key)\n",
        "# pos2 = [(key, ) for (key, value) in pos.items()]\n",
        "pos2['ADV']"
      ],
      "metadata": {
        "colab": {
          "base_uri": "https://localhost:8080/"
        },
        "id": "iUSBo6zq6QRZ",
        "outputId": "f4186a2c-9f54-498e-f7cd-3fbbfcffc7f3"
      },
      "execution_count": null,
      "outputs": [
        {
          "output_type": "execute_result",
          "data": {
            "text/plain": [
              "['furiously', 'peacefully']"
            ]
          },
          "metadata": {},
          "execution_count": 15
        }
      ]
    },
    {
      "cell_type": "code",
      "source": [
        "## accessing keys from values in a dictionary - practice\n",
        "from collections import defaultdict\n",
        "example_dict = {'Name': 'Paul', 'Occupation': 'Teacher', 'Residence': 'Ontario'}\n",
        "\n",
        "example_dict2 = defaultdict(list)\n",
        "print(f\"before: {example_dict2}\")\n",
        "for key, value in example_dict.items():\n",
        "  example_dict2[value].append(key)\n",
        "\n",
        "print(\"after:\", example_dict2)\n"
      ],
      "metadata": {
        "id": "E-_DEdPG7YUk",
        "outputId": "8b494afb-459e-4156-8297-f00d30cf1389",
        "colab": {
          "base_uri": "https://localhost:8080/"
        }
      },
      "execution_count": 8,
      "outputs": [
        {
          "output_type": "stream",
          "name": "stdout",
          "text": [
            "before: defaultdict(<class 'list'>, {})\n",
            "after: defaultdict(<class 'list'>, {'Paul': ['Name'], 'Teacher': ['Occupation'], 'Ontario': ['Residence']})\n"
          ]
        }
      ]
    },
    {
      "cell_type": "code",
      "source": [
        "example_dict2['Ontario']"
      ],
      "metadata": {
        "id": "EIIHvFrp8-YZ",
        "outputId": "27bf593e-984b-4e78-d0e3-b519af878352",
        "colab": {
          "base_uri": "https://localhost:8080/"
        }
      },
      "execution_count": 9,
      "outputs": [
        {
          "output_type": "execute_result",
          "data": {
            "text/plain": [
              "['Residence']"
            ]
          },
          "metadata": {},
          "execution_count": 9
        }
      ]
    },
    {
      "cell_type": "markdown",
      "source": [
        "## N-Gram Tagging"
      ],
      "metadata": {
        "id": "qLYH20R89llS"
      }
    },
    {
      "cell_type": "markdown",
      "source": [
        "### Unigram tagging"
      ],
      "metadata": {
        "id": "KLC_PIz59cld"
      }
    },
    {
      "cell_type": "code",
      "source": [
        "import nltk\n",
        "from nltk.corpus import brown\n",
        "brown_tagged_sents = brown.tagged_sents(categories = 'news')\n",
        "brown_sents = brown.sents(categories = 'news')\n",
        "unigram_tagger = nltk.UnigramTagger(brown_tagged_sents)\n",
        "unigram_tagger.tag(brown_sents[2007])\n",
        "\n",
        "unigram_tagger.evaluate(brown_tagged_sents)"
      ],
      "metadata": {
        "id": "I87jpcoK9bnt",
        "outputId": "af47cc2f-4e01-48bc-cd3f-d174b8eb2dbb",
        "colab": {
          "base_uri": "https://localhost:8080/"
        }
      },
      "execution_count": 16,
      "outputs": [
        {
          "output_type": "stream",
          "name": "stderr",
          "text": [
            "/usr/local/lib/python3.7/dist-packages/ipykernel_launcher.py:8: DeprecationWarning: \n",
            "  Function evaluate() has been deprecated.  Use accuracy(gold)\n",
            "  instead.\n",
            "  \n"
          ]
        },
        {
          "output_type": "execute_result",
          "data": {
            "text/plain": [
              "0.9349006503968017"
            ]
          },
          "metadata": {},
          "execution_count": 16
        }
      ]
    },
    {
      "cell_type": "code",
      "source": [
        "nltk.download('brown')"
      ],
      "metadata": {
        "id": "3ah0QdBN7ket",
        "outputId": "f0f4bf72-f806-41e8-f4b2-1807b6d27360",
        "colab": {
          "base_uri": "https://localhost:8080/"
        }
      },
      "execution_count": 11,
      "outputs": [
        {
          "output_type": "stream",
          "name": "stderr",
          "text": [
            "[nltk_data] Downloading package brown to /root/nltk_data...\n",
            "[nltk_data]   Unzipping corpora/brown.zip.\n"
          ]
        },
        {
          "output_type": "execute_result",
          "data": {
            "text/plain": [
              "True"
            ]
          },
          "metadata": {},
          "execution_count": 11
        }
      ]
    },
    {
      "cell_type": "markdown",
      "source": [
        "## Learning to classify text"
      ],
      "metadata": {
        "id": "9-ww6pqR_M_z"
      }
    },
    {
      "cell_type": "markdown",
      "source": [
        "Classification: choosing the correct label for a given input. \n",
        "\n",
        "- Multi-class classification: input has multiple labels\n",
        "- Open-class classification: set of labels not defined in advance (unspervised?)\n",
        "- Sequence classification: list of inputs are jointly classified (not independent from each other?)\n",
        "\n",
        "Supervised Classification: Model trained on text with **correct** labels. \n",
        "\n",
        "Process of supervised classification:\n",
        "- Training: We have input text and a feature extractor is used to convert each input value to a feature set. Pairs of feature sets are fed into the machine learning algorith to generate a model\n",
        "- Prediction: Same feature extractor is used to convert unseen inputs to feature sets. Feature sets then fed to the produced model to generate predicted labels\n"
      ],
      "metadata": {
        "id": "Ix2RwlvR_4pa"
      }
    },
    {
      "cell_type": "code",
      "source": [
        "## Gender identification:\n",
        "### Names ending in a, e and i are likely to be female, while names ending in k, o, r, s and t are likely to be male\n",
        "\n",
        "def gender_features(word):\n",
        "  return {'last_letter': word[-1]}\n",
        "\n",
        "## this function will build a feature set"
      ],
      "metadata": {
        "id": "WDxm1Pk5-SI2"
      },
      "execution_count": 17,
      "outputs": []
    },
    {
      "cell_type": "code",
      "source": [
        "from nltk.corpus import names\n",
        "import random\n",
        "labeled_names = ([(name, 'male') for name in names.words('male.txt')] +\n",
        "[(name, 'female') for name in names.words('female.txt')])\n",
        "random.shuffle(labeled_names) #shuffling names\n",
        "\n",
        "featuresets = [(gender_features(n), gender) for (n, gender) in labeled_names]\n",
        "train_set, test_set = featuresets[500:], featuresets[:500]\n",
        "## will train the model on the names after 500th name in the dataset\n",
        "\n",
        "classifier = nltk.NaiveBayesClassifier.train(train_set)"
      ],
      "metadata": {
        "id": "_QwfPMIgCENP"
      },
      "execution_count": 22,
      "outputs": []
    },
    {
      "cell_type": "code",
      "source": [
        "## testing the classifier with new names\n",
        "\n",
        "classifier.classify(gender_features('Audrey'))"
      ],
      "metadata": {
        "id": "k4GUS6dJCrPG",
        "outputId": "de0cd1af-cac4-4ac9-95e5-37c38f7206ae",
        "colab": {
          "base_uri": "https://localhost:8080/",
          "height": 35
        }
      },
      "execution_count": 34,
      "outputs": [
        {
          "output_type": "execute_result",
          "data": {
            "text/plain": [
              "'female'"
            ],
            "application/vnd.google.colaboratory.intrinsic+json": {
              "type": "string"
            }
          },
          "metadata": {},
          "execution_count": 34
        }
      ]
    },
    {
      "cell_type": "code",
      "source": [
        "## What's the model's accuracy?\n",
        "print(nltk.classify.accuracy(classifier, test_set))"
      ],
      "metadata": {
        "id": "lIKQHmo8Ct28",
        "outputId": "af917fae-c8ec-4861-c50f-86d9e3421bbe",
        "colab": {
          "base_uri": "https://localhost:8080/"
        }
      },
      "execution_count": 35,
      "outputs": [
        {
          "output_type": "stream",
          "name": "stdout",
          "text": [
            "0.778\n"
          ]
        }
      ]
    },
    {
      "cell_type": "code",
      "source": [
        "## most informative features for distinguishing names' genders\n",
        "## LIKELIHOOD RATIOS\n",
        "classifier.show_most_informative_features(5)"
      ],
      "metadata": {
        "id": "HAKVyQzSE0G-",
        "outputId": "7229a31c-622b-41bf-bc07-0604225182dd",
        "colab": {
          "base_uri": "https://localhost:8080/"
        }
      },
      "execution_count": 36,
      "outputs": [
        {
          "output_type": "stream",
          "name": "stdout",
          "text": [
            "Most Informative Features\n",
            "             last_letter = 'a'            female : male   =     35.6 : 1.0\n",
            "             last_letter = 'k'              male : female =     30.1 : 1.0\n",
            "             last_letter = 'f'              male : female =     16.5 : 1.0\n",
            "             last_letter = 'p'              male : female =     10.5 : 1.0\n",
            "             last_letter = 'd'              male : female =     10.4 : 1.0\n"
          ]
        }
      ]
    },
    {
      "cell_type": "code",
      "source": [
        "## We don't want to construct a list that contains every features of every instance IRL for memory constraints. \n",
        "## Use this instead\n",
        "\n",
        "# Gender identification using names \n",
        "from nltk.classify import apply_features\n",
        "from nltk import NaiveBayesClassifier \n",
        "train_set = apply_features(gender_features, labeled_names[500:])\n",
        "test_set = apply_features(gender_features, labeled_names[:500])\n",
        "classifier = NaiveBayesClassifier.train(train_set) #training classifier\n",
        "accuracy = nltk.classify.accuracy(classifier, test_set)\n",
        "print(f\"Model's accuracy: {accuracy}\")\n"
      ],
      "metadata": {
        "id": "Kf3f5lENFAqr",
        "outputId": "18396682-569e-42f2-e626-9bdbe3394162",
        "colab": {
          "base_uri": "https://localhost:8080/"
        }
      },
      "execution_count": 39,
      "outputs": [
        {
          "output_type": "stream",
          "name": "stdout",
          "text": [
            "Model's accuracy: 0.778\n"
          ]
        }
      ]
    },
    {
      "cell_type": "code",
      "source": [
        "names_list = ['Patrick', 'Audrey', 'Donald', 'Mary', 'Joy', 'Christopher']\n",
        "\n",
        "for name in names_list:\n",
        "  predicted_gender = classifier.classify(gender_features(name))\n",
        "  print(f\"{name} is {predicted_gender}\")"
      ],
      "metadata": {
        "id": "Es315LlAH-Tz",
        "outputId": "07c87478-2810-421b-ccf8-ba1dc43cb3d3",
        "colab": {
          "base_uri": "https://localhost:8080/"
        }
      },
      "execution_count": 40,
      "outputs": [
        {
          "output_type": "stream",
          "name": "stdout",
          "text": [
            "Patrick is male\n",
            "Audrey is female\n",
            "Donald is male\n",
            "Mary is female\n",
            "Joy is female\n",
            "Christopher is male\n"
          ]
        }
      ]
    },
    {
      "cell_type": "markdown",
      "source": [
        "## Choosing the Right Features"
      ],
      "metadata": {
        "id": "5gidk6QWJc_o"
      }
    },
    {
      "cell_type": "code",
      "source": [
        "## using the 'Kitchen sink' approach to determine which features will give up the best model\n",
        "### This is a trial-and-error process\n",
        "import string\n",
        "def gender_features2(name):\n",
        "  features = {}\n",
        "  features['first_letter'] = name[0].lower()\n",
        "  features['last_letter'] = name[-1].lower()\n",
        "  for letter in string.ascii_lowercase:\n",
        "    features[f'count({letter})'] = name.lower().count(letter)\n",
        "    features[f'has({letter})'] = (letter in name.lower())\n",
        "  return features\n"
      ],
      "metadata": {
        "id": "Ikc3pM05H5pH"
      },
      "execution_count": 46,
      "outputs": []
    },
    {
      "cell_type": "code",
      "source": [
        "gender_features2(\"Eugene\")"
      ],
      "metadata": {
        "id": "4hI4770mJO4m",
        "outputId": "dfce946d-4349-47a8-d22b-3aed2736d999",
        "colab": {
          "base_uri": "https://localhost:8080/"
        }
      },
      "execution_count": 47,
      "outputs": [
        {
          "output_type": "execute_result",
          "data": {
            "text/plain": [
              "{'count(a)': 0,\n",
              " 'count(b)': 0,\n",
              " 'count(c)': 0,\n",
              " 'count(d)': 0,\n",
              " 'count(e)': 3,\n",
              " 'count(f)': 0,\n",
              " 'count(g)': 1,\n",
              " 'count(h)': 0,\n",
              " 'count(i)': 0,\n",
              " 'count(j)': 0,\n",
              " 'count(k)': 0,\n",
              " 'count(l)': 0,\n",
              " 'count(m)': 0,\n",
              " 'count(n)': 1,\n",
              " 'count(o)': 0,\n",
              " 'count(p)': 0,\n",
              " 'count(q)': 0,\n",
              " 'count(r)': 0,\n",
              " 'count(s)': 0,\n",
              " 'count(t)': 0,\n",
              " 'count(u)': 1,\n",
              " 'count(v)': 0,\n",
              " 'count(w)': 0,\n",
              " 'count(x)': 0,\n",
              " 'count(y)': 0,\n",
              " 'count(z)': 0,\n",
              " 'first_letter': 'e',\n",
              " 'has(a)': False,\n",
              " 'has(b)': False,\n",
              " 'has(c)': False,\n",
              " 'has(d)': False,\n",
              " 'has(e)': True,\n",
              " 'has(f)': False,\n",
              " 'has(g)': True,\n",
              " 'has(h)': False,\n",
              " 'has(i)': False,\n",
              " 'has(j)': False,\n",
              " 'has(k)': False,\n",
              " 'has(l)': False,\n",
              " 'has(m)': False,\n",
              " 'has(n)': True,\n",
              " 'has(o)': False,\n",
              " 'has(p)': False,\n",
              " 'has(q)': False,\n",
              " 'has(r)': False,\n",
              " 'has(s)': False,\n",
              " 'has(t)': False,\n",
              " 'has(u)': True,\n",
              " 'has(v)': False,\n",
              " 'has(w)': False,\n",
              " 'has(x)': False,\n",
              " 'has(y)': False,\n",
              " 'has(z)': False,\n",
              " 'last_letter': 'e'}"
            ]
          },
          "metadata": {},
          "execution_count": 47
        }
      ]
    },
    {
      "cell_type": "code",
      "source": [
        ""
      ],
      "metadata": {
        "id": "5q8L0HS0LtOP"
      },
      "execution_count": null,
      "outputs": []
    }
  ]
}