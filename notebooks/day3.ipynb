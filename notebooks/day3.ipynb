{
 "cells": [
  {
   "cell_type": "markdown",
   "metadata": {},
   "source": [
    "## Accessing Text Corpora and Lexical Resources"
   ]
  },
  {
   "cell_type": "code",
   "execution_count": 26,
   "metadata": {},
   "outputs": [],
   "source": [
    "#Load library and texts used in the book\n",
    "import nltk\n",
    "from nltk.book import *\n",
    "from nltk.corpus import gutenberg\n",
    "from nltk.corpus import inaugural"
   ]
  },
  {
   "cell_type": "code",
   "execution_count": 13,
   "metadata": {},
   "outputs": [
    {
     "data": {
      "text/plain": [
       "['austen-emma.txt',\n",
       " 'austen-persuasion.txt',\n",
       " 'austen-sense.txt',\n",
       " 'bible-kjv.txt',\n",
       " 'blake-poems.txt',\n",
       " 'bryant-stories.txt',\n",
       " 'burgess-busterbrown.txt',\n",
       " 'carroll-alice.txt',\n",
       " 'chesterton-ball.txt',\n",
       " 'chesterton-brown.txt',\n",
       " 'chesterton-thursday.txt',\n",
       " 'edgeworth-parents.txt',\n",
       " 'melville-moby_dick.txt',\n",
       " 'milton-paradise.txt',\n",
       " 'shakespeare-caesar.txt',\n",
       " 'shakespeare-hamlet.txt',\n",
       " 'shakespeare-macbeth.txt',\n",
       " 'whitman-leaves.txt']"
      ]
     },
     "execution_count": 13,
     "metadata": {},
     "output_type": "execute_result"
    }
   ],
   "source": [
    "gutenberg.fileids() #corpus in the gutenberg "
   ]
  },
  {
   "cell_type": "code",
   "execution_count": 19,
   "metadata": {},
   "outputs": [
    {
     "name": "stdout",
     "output_type": "stream",
     "text": [
      "192427\n"
     ]
    }
   ],
   "source": [
    "emma = gutenberg.words('austen-emma.txt')\n",
    "print(len(emma))\n"
   ]
  },
  {
   "cell_type": "code",
   "execution_count": 22,
   "metadata": {},
   "outputs": [
    {
     "name": "stdout",
     "output_type": "stream",
     "text": [
      "4.609909212324673 24.822884416924666 1.203496153605604 austen-emma.txt\n",
      "4.749793727271801 26.19989324793168 1.1981570757307622 austen-persuasion.txt\n",
      "4.753785952421314 28.32086417283457 1.1936563609230484 austen-sense.txt\n",
      "4.286881563819072 33.57319868451649 1.2438588826052441 bible-kjv.txt\n",
      "4.567033756284415 19.073059360730593 1.25661853188929 blake-poems.txt\n",
      "4.489300433741879 19.40726510653161 1.211895829698133 bryant-stories.txt\n",
      "4.464641670621737 17.99146110056926 1.203083365055196 burgess-busterbrown.txt\n",
      "4.233216065669891 20.029359953024077 1.2610447706015009 carroll-alice.txt\n",
      "4.716173862839705 20.296296296296298 1.1959901850778658 chesterton-ball.txt\n",
      "4.724783007796614 22.61245401996847 1.2120354331263115 chesterton-brown.txt\n",
      "4.63099417739442 18.496258685195084 1.2081798662872902 chesterton-thursday.txt\n",
      "4.4391184023772565 20.59266862170088 1.2642257882544978 edgeworth-parents.txt\n",
      "4.76571875515204 25.928919375683467 1.2248186151353635 melville-moby_dick.txt\n",
      "4.835734572682675 52.309562398703406 1.2238204178621535 milton-paradise.txt\n",
      "4.347539968257655 11.943134535367545 1.3135201098286469 shakespeare-caesar.txt\n",
      "4.3597698072805136 12.028332260141662 1.3031042901988141 shakespeare-hamlet.txt\n",
      "4.336689714779602 12.134242265338228 1.3411382867740813 shakespeare-macbeth.txt\n",
      "4.591950052620365 36.44305882352941 1.2824837705352412 whitman-leaves.txt\n"
     ]
    }
   ],
   "source": [
    "# average word length\n",
    "# average sentence length\n",
    "# lexical diversity (number of times a vocab appears in the text)\n",
    "\n",
    "for fileid in gutenberg.fileids():\n",
    "    num_chars = len(gutenberg.raw(fileid))\n",
    "    num_words = len(gutenberg.words(fileid))\n",
    "    num_sent = len(gutenberg.sents(fileid))\n",
    "    num_vocab = len(set(w.lower for w in gutenberg.words(fileid)))\n",
    "    print(num_chars/num_words, num_words/num_sent, num_words/num_vocab, fileid)\n"
   ]
  },
  {
   "cell_type": "code",
   "execution_count": 36,
   "metadata": {},
   "outputs": [
    {
     "data": {
      "text/plain": [
       "['adventure',\n",
       " 'belles_lettres',\n",
       " 'editorial',\n",
       " 'fiction',\n",
       " 'government',\n",
       " 'hobbies',\n",
       " 'humor',\n",
       " 'learned',\n",
       " 'lore',\n",
       " 'mystery',\n",
       " 'news',\n",
       " 'religion',\n",
       " 'reviews',\n",
       " 'romance',\n",
       " 'science_fiction']"
      ]
     },
     "execution_count": 36,
     "metadata": {},
     "output_type": "execute_result"
    }
   ],
   "source": [
    "nltk.corpus.brown.categories()"
   ]
  },
  {
   "cell_type": "markdown",
   "metadata": {},
   "source": [
    "## WordNet\n",
    "\n",
    "Wordnet is a semantically-oriented dictionary of English. It is a large and comprehensive resource for English language words.\n"
   ]
  },
  {
   "cell_type": "code",
   "execution_count": 56,
   "metadata": {},
   "outputs": [
    {
     "data": {
      "text/plain": [
       "[Synset('car.n.01')]"
      ]
     },
     "execution_count": 56,
     "metadata": {},
     "output_type": "execute_result"
    }
   ],
   "source": [
    "# Accessing synonyms in wordnet\n",
    "from nltk.corpus import wordnet as wn\n",
    "\n",
    "wn.synsets(\"motorcar\")"
   ]
  },
  {
   "cell_type": "markdown",
   "metadata": {},
   "source": [
    "Motorcar has just one possible meaning and identified as 'car.n.01' in wordnet. The entity *car.n.01*: synset (synonym set) and it is a collection of synonym words also called lemmas. "
   ]
  },
  {
   "cell_type": "code",
   "execution_count": 67,
   "metadata": {},
   "outputs": [
    {
     "name": "stdout",
     "output_type": "stream",
     "text": [
      "all lemma names: ['car', 'auto', 'automobile', 'machine', 'motorcar']\n",
      "lemma: Lemma('car.n.01.auto')\n",
      "synset: Synset('car.n.01')\n",
      "lemma name: auto\n"
     ]
    }
   ],
   "source": [
    "#get all lemmas\n",
    "print(\"all lemma names:\", wn.synset(\"car.n.01\").lemma_names())\n",
    "# look up lemma \n",
    "print(\"lemma:\", wn.lemma(\"car.n.01.auto\"))\n",
    "#get synset for a given lemma\n",
    "print(\"synset:\", wn.lemma(\"car.n.01.auto\").synset())\n",
    "#name of a lemma\n",
    "print(\"lemma name:\", wn.lemma(\"car.n.01.auto\").name())\n",
    "#"
   ]
  },
  {
   "cell_type": "code",
   "execution_count": 80,
   "metadata": {},
   "outputs": [
    {
     "name": "stdout",
     "output_type": "stream",
     "text": [
      "[Synset('artifact.n.01')]\n"
     ]
    },
    {
     "data": {
      "text/plain": [
       "'a man-made object taken as a whole'"
      ]
     },
     "execution_count": 80,
     "metadata": {},
     "output_type": "execute_result"
    }
   ],
   "source": [
    "print(wn.synsets(\"artefact\"))\n",
    "wn.synset('artifact.n.01').definition()"
   ]
  },
  {
   "cell_type": "markdown",
   "metadata": {},
   "source": [
    "Hypo/hypernyms are called lexical relations since they relate one synset to another.\n",
    "\n",
    "## Semantic Similarity"
   ]
  },
  {
   "cell_type": "markdown",
   "metadata": {},
   "source": [
    "Knowing words that are semantically related is very useful for indexing a collection of texts, so that a search for a general term like car will match documents containing specific terms like BMW, Mercedes, etc."
   ]
  },
  {
   "cell_type": "code",
   "execution_count": 97,
   "metadata": {},
   "outputs": [
    {
     "data": {
      "text/plain": [
       "1.0"
      ]
     },
     "execution_count": 97,
     "metadata": {},
     "output_type": "execute_result"
    }
   ],
   "source": [
    "wn.synsets(\"lady\")\n",
    "lady = wn.synset('lady.n.01')\n",
    "lady.path_similarity(lady) #semantic similarity with the word itself is 1\n",
    "#the further away the words are from each other the lower the close to 0\n",
    "#the semantic similarity will be\n"
   ]
  },
  {
   "cell_type": "code",
   "execution_count": 123,
   "metadata": {},
   "outputs": [
    {
     "name": "stdout",
     "output_type": "stream",
     "text": [
      "Similarity between car and vehicle is 0.2\n"
     ]
    }
   ],
   "source": [
    "from nltk.corpus import wordnet as wn \n",
    "#find semantic similarity between car and road\n",
    "car = wn.synsets(\"car\")[0] #finding the first synset for \"car\"\n",
    "vehicle = wn.synsets(\"vehicle\")[0] #the first synset for \"vehicle\"\n",
    "semantic_similarity = car.path_similarity(vehicle)\n",
    "print(\"Similarity between car and vehicle is\", round(semantic_similarity, 2))"
   ]
  }
 ],
 "metadata": {
  "kernelspec": {
   "display_name": "Python 3.8.5 ('base')",
   "language": "python",
   "name": "python3"
  },
  "language_info": {
   "codemirror_mode": {
    "name": "ipython",
    "version": 3
   },
   "file_extension": ".py",
   "mimetype": "text/x-python",
   "name": "python",
   "nbconvert_exporter": "python",
   "pygments_lexer": "ipython3",
   "version": "3.8.5"
  },
  "orig_nbformat": 4,
  "vscode": {
   "interpreter": {
    "hash": "ad2bdc8ecc057115af97d19610ffacc2b4e99fae6737bb82f5d7fb13d2f2c186"
   }
  }
 },
 "nbformat": 4,
 "nbformat_minor": 2
}
