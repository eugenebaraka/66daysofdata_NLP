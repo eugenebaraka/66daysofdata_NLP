{
  "nbformat": 4,
  "nbformat_minor": 0,
  "metadata": {
    "colab": {
      "name": "day9.ipynb",
      "provenance": [],
      "authorship_tag": "ABX9TyOfNynTBAeB2SvaPNokAUTn",
      "include_colab_link": true
    },
    "kernelspec": {
      "name": "python3",
      "display_name": "Python 3"
    },
    "language_info": {
      "name": "python"
    }
  },
  "cells": [
    {
      "cell_type": "markdown",
      "metadata": {
        "id": "view-in-github",
        "colab_type": "text"
      },
      "source": [
        "<a href=\"https://colab.research.google.com/github/eugenebaraka/66daysofdata_NLP/blob/main/day9.ipynb\" target=\"_parent\"><img src=\"https://colab.research.google.com/assets/colab-badge.svg\" alt=\"Open In Colab\"/></a>"
      ]
    },
    {
      "cell_type": "markdown",
      "source": [
        "## Algorithm Design"
      ],
      "metadata": {
        "id": "oiwKIWcdk8VE"
      }
    },
    {
      "cell_type": "code",
      "source": [
        "def factorial(n):\n",
        "  result = 1\n",
        "  for i in range(n):\n",
        "    result *= (i+1)\n",
        "  return result\n",
        "\n",
        "factorial(3)"
      ],
      "metadata": {
        "colab": {
          "base_uri": "https://localhost:8080/"
        },
        "id": "LhJWISAtlBah",
        "outputId": "2919f648-7549-4c86-d307-07094fac22ff"
      },
      "execution_count": 7,
      "outputs": [
        {
          "output_type": "execute_result",
          "data": {
            "text/plain": [
              "6"
            ]
          },
          "metadata": {},
          "execution_count": 7
        }
      ]
    },
    {
      "cell_type": "markdown",
      "source": [
        "## Categorizing and Tagging Words"
      ],
      "metadata": {
        "id": "DKqXsnsBmHCa"
      }
    },
    {
      "cell_type": "markdown",
      "source": [
        "Goals: \n",
        "- What are lexical categories and how are they used in natural language processing?\n",
        "- What is a good Python data structure for storing words and their categories?\n",
        "- How can we automatically tag each word of a text with its word class?"
      ],
      "metadata": {
        "id": "NKEGshpKmWph"
      }
    },
    {
      "cell_type": "markdown",
      "source": [
        "Tagging in the second step after tokenization in a typical NLP pipeline. \n",
        "\n",
        "**Tagging** is the process of classifying words into their parts of speech and labelling them. also known as part-of-speech tagging or POS-tagging. \n",
        "\n",
        "The collection of tags is known as **tagset**"
      ],
      "metadata": {
        "id": "fN5xxqb8mu_w"
      }
    },
    {
      "cell_type": "markdown",
      "source": [
        "## 1. Using a Tagger"
      ],
      "metadata": {
        "id": "rRLq1AdEnbMD"
      }
    },
    {
      "cell_type": "markdown",
      "source": [
        "POS, or Part-of-Speech tagger: processes a sequence of words and attaches a part of speech tag to each word. "
      ],
      "metadata": {
        "id": "BTabSO2xnkV7"
      }
    },
    {
      "cell_type": "code",
      "source": [
        "import nltk\n",
        "from nltk import word_tokenize\n",
        "from nltk import pos_tag\n",
        "from nltk.corpus import brown"
      ],
      "metadata": {
        "id": "xY-qLwcYnb1r"
      },
      "execution_count": 31,
      "outputs": []
    },
    {
      "cell_type": "code",
      "source": [
        "text = word_tokenize(\"And now for something completely different\")\n",
        "print(text)"
      ],
      "metadata": {
        "colab": {
          "base_uri": "https://localhost:8080/"
        },
        "id": "LuaoA76DnvNF",
        "outputId": "99688292-5f93-4c83-8418-b06b39df089d"
      },
      "execution_count": 27,
      "outputs": [
        {
          "output_type": "stream",
          "name": "stdout",
          "text": [
            "['And', 'now', 'for', 'something', 'completely', 'different']\n"
          ]
        }
      ]
    },
    {
      "cell_type": "code",
      "source": [
        "print(pos_tag(text))"
      ],
      "metadata": {
        "colab": {
          "base_uri": "https://localhost:8080/"
        },
        "id": "cLbcBxsoo-n8",
        "outputId": "68e6476c-d780-4de3-8cd6-f09ac6e64888"
      },
      "execution_count": 28,
      "outputs": [
        {
          "output_type": "stream",
          "name": "stdout",
          "text": [
            "[('And', 'CC'), ('now', 'RB'), ('for', 'IN'), ('something', 'NN'), ('completely', 'RB'), ('different', 'JJ')]\n"
          ]
        }
      ]
    },
    {
      "cell_type": "markdown",
      "source": [
        "- CC: Conjuction\n",
        "- RB: Adverb\n",
        "- NN: noun\n",
        "- IN: preposition\n",
        "- JJ: Adjective"
      ],
      "metadata": {
        "id": "0dYNJDa-pmlF"
      }
    },
    {
      "cell_type": "code",
      "source": [
        "text = word_tokenize(\"They refuse to permit us to obtain the refuse permit\")\n",
        "pos_tag(text)"
      ],
      "metadata": {
        "colab": {
          "base_uri": "https://localhost:8080/"
        },
        "id": "PhIDAby2pv5U",
        "outputId": "b65dd155-c471-4029-bbe0-ca1075f565df"
      },
      "execution_count": 29,
      "outputs": [
        {
          "output_type": "execute_result",
          "data": {
            "text/plain": [
              "[('They', 'PRP'),\n",
              " ('refuse', 'VBP'),\n",
              " ('to', 'TO'),\n",
              " ('permit', 'VB'),\n",
              " ('us', 'PRP'),\n",
              " ('to', 'TO'),\n",
              " ('obtain', 'VB'),\n",
              " ('the', 'DT'),\n",
              " ('refuse', 'NN'),\n",
              " ('permit', 'NN')]"
            ]
          },
          "metadata": {},
          "execution_count": 29
        }
      ]
    },
    {
      "cell_type": "code",
      "source": [
        "text = nltk.Text(word.lower() for word in nltk.corpus.brown.words())\n",
        "text.similar('woman') #this will find nouns, searching for verbs will output verbs etc.\n"
      ],
      "metadata": {
        "colab": {
          "base_uri": "https://localhost:8080/"
        },
        "id": "ESBKMMXap9A1",
        "outputId": "36665202-5c35-49a6-ba24-f316e61e5863"
      },
      "execution_count": 36,
      "outputs": [
        {
          "output_type": "stream",
          "name": "stdout",
          "text": [
            "man time day year car moment world house family child country boy\n",
            "state job place way war girl work word\n"
          ]
        }
      ]
    },
    {
      "cell_type": "markdown",
      "source": [
        "## Tagged corpora"
      ],
      "metadata": {
        "id": "7aJ-7kl8rZii"
      }
    },
    {
      "cell_type": "code",
      "source": [
        "tagged_token = nltk.tag.str2tuple('fly/NN')\n",
        "print(tagged_token)\n",
        "print(tagged_token[0])\n",
        "print(tagged_token[1])"
      ],
      "metadata": {
        "colab": {
          "base_uri": "https://localhost:8080/"
        },
        "id": "JywUEByLq0mG",
        "outputId": "d95d0244-f2cc-489c-fabb-acafb2bcfa15"
      },
      "execution_count": 38,
      "outputs": [
        {
          "output_type": "stream",
          "name": "stdout",
          "text": [
            "('fly', 'NN')\n",
            "fly\n",
            "NN\n"
          ]
        }
      ]
    },
    {
      "cell_type": "code",
      "source": [
        "sent = \"The/AT grand/JJ jury/NN commented/VBD\"\n",
        "[nltk.tag.str2tuple(t) for t in word_tokenize(sent)]"
      ],
      "metadata": {
        "colab": {
          "base_uri": "https://localhost:8080/"
        },
        "id": "Y91YDxL3rsSc",
        "outputId": "862ca9a6-591d-442e-d888-fe61703a1ac3"
      },
      "execution_count": 40,
      "outputs": [
        {
          "output_type": "execute_result",
          "data": {
            "text/plain": [
              "[('The', 'AT'), ('grand', 'JJ'), ('jury', 'NN'), ('commented', 'VBD')]"
            ]
          },
          "metadata": {},
          "execution_count": 40
        }
      ]
    },
    {
      "cell_type": "markdown",
      "source": [
        "## Reading Tagged Corpora"
      ],
      "metadata": {
        "id": "wOsD_NgJs10-"
      }
    },
    {
      "cell_type": "code",
      "source": [
        ""
      ],
      "metadata": {
        "id": "kglAEj-mskwd"
      },
      "execution_count": null,
      "outputs": []
    }
  ]
}